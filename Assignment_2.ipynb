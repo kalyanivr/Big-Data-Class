{
 "cells": [
  {
   "cell_type": "code",
   "execution_count": 1,
   "metadata": {},
   "outputs": [],
   "source": [
    "from __future__ import print_function\n",
    "import sys\n",
    "from operator import add\n",
    "from pyspark.sql import SparkSession"
   ]
  },
  {
   "cell_type": "markdown",
   "metadata": {},
   "source": [
    "# Create a new Spark Session"
   ]
  },
  {
   "cell_type": "code",
   "execution_count": 2,
   "metadata": {},
   "outputs": [],
   "source": [
    "spark = SparkSession\\\n",
    ".builder\\\n",
    ".appName(\"Assignment_2\")\\\n",
    ".getOrCreate()"
   ]
  },
  {
   "cell_type": "markdown",
   "metadata": {},
   "source": [
    "# Specify input path for the data file"
   ]
  },
  {
   "cell_type": "code",
   "execution_count": 3,
   "metadata": {},
   "outputs": [],
   "source": [
    "input_path = \"/Users/kalyani/Documents/Study/Big_Data/ratings.txt\""
   ]
  },
  {
   "cell_type": "markdown",
   "metadata": {},
   "source": [
    "# Create RDD of the given data"
   ]
  },
  {
   "cell_type": "code",
   "execution_count": 4,
   "metadata": {},
   "outputs": [],
   "source": [
    "records = spark.sparkContext.textFile(input_path)"
   ]
  },
  {
   "cell_type": "code",
   "execution_count": 7,
   "metadata": {},
   "outputs": [
    {
     "data": {
      "text/plain": [
       "['U1,M4,4',\n",
       " 'U1,M4,3',\n",
       " 'U1,M2,5',\n",
       " 'U1,M2,0',\n",
       " 'U1,M3,2',\n",
       " 'U2,M4,3',\n",
       " 'U2,M4,4',\n",
       " 'U2,M4,5',\n",
       " 'U3,M1,1',\n",
       " 'U3,M5,6',\n",
       " 'U3,M4,4',\n",
       " 'U3,M4,5',\n",
       " 'U4,M2,3',\n",
       " 'U4,M1,1',\n",
       " 'U4,M1,4',\n",
       " 'U4,M1,5',\n",
       " 'U5,M1,3',\n",
       " 'U5,M1,1',\n",
       " 'U6,M1,3',\n",
       " 'U6,M9,4']"
      ]
     },
     "execution_count": 7,
     "metadata": {},
     "output_type": "execute_result"
    }
   ],
   "source": [
    "records.collect()"
   ]
  },
  {
   "cell_type": "markdown",
   "metadata": {},
   "source": [
    "# Manipulate the data to get it in required format\n"
   ]
  },
  {
   "cell_type": "code",
   "execution_count": 5,
   "metadata": {},
   "outputs": [],
   "source": [
    "tokens = records.map(lambda x: x.split())"
   ]
  },
  {
   "cell_type": "code",
   "execution_count": 6,
   "metadata": {},
   "outputs": [
    {
     "data": {
      "text/plain": [
       "[['U1,M4,4'],\n",
       " ['U1,M4,3'],\n",
       " ['U1,M2,5'],\n",
       " ['U1,M2,0'],\n",
       " ['U1,M3,2'],\n",
       " ['U2,M4,3'],\n",
       " ['U2,M4,4'],\n",
       " ['U2,M4,5'],\n",
       " ['U3,M1,1'],\n",
       " ['U3,M5,6'],\n",
       " ['U3,M4,4'],\n",
       " ['U3,M4,5'],\n",
       " ['U4,M2,3'],\n",
       " ['U4,M1,1'],\n",
       " ['U4,M1,4'],\n",
       " ['U4,M1,5'],\n",
       " ['U5,M1,3'],\n",
       " ['U5,M1,1'],\n",
       " ['U6,M1,3'],\n",
       " ['U6,M9,4']]"
      ]
     },
     "execution_count": 6,
     "metadata": {},
     "output_type": "execute_result"
    }
   ],
   "source": [
    "tokens.collect()"
   ]
  },
  {
   "cell_type": "code",
   "execution_count": 16,
   "metadata": {},
   "outputs": [],
   "source": [
    "t = records.flatMap(lambda x: x.split(','))"
   ]
  },
  {
   "cell_type": "code",
   "execution_count": 18,
   "metadata": {},
   "outputs": [
    {
     "data": {
      "text/plain": [
       "['U1',\n",
       " 'M4',\n",
       " '4',\n",
       " 'U1',\n",
       " 'M4',\n",
       " '3',\n",
       " 'U1',\n",
       " 'M2',\n",
       " '5',\n",
       " 'U1',\n",
       " 'M2',\n",
       " '0',\n",
       " 'U1',\n",
       " 'M3',\n",
       " '2',\n",
       " 'U2',\n",
       " 'M4',\n",
       " '3',\n",
       " 'U2',\n",
       " 'M4',\n",
       " '4',\n",
       " 'U2',\n",
       " 'M4',\n",
       " '5',\n",
       " 'U3',\n",
       " 'M1',\n",
       " '1',\n",
       " 'U3',\n",
       " 'M5',\n",
       " '6',\n",
       " 'U3',\n",
       " 'M4',\n",
       " '4',\n",
       " 'U3',\n",
       " 'M4',\n",
       " '5',\n",
       " 'U4',\n",
       " 'M2',\n",
       " '3',\n",
       " 'U4',\n",
       " 'M1',\n",
       " '1',\n",
       " 'U4',\n",
       " 'M1',\n",
       " '4',\n",
       " 'U4',\n",
       " 'M1',\n",
       " '5',\n",
       " 'U5',\n",
       " 'M1',\n",
       " '3',\n",
       " 'U5',\n",
       " 'M1',\n",
       " '1',\n",
       " 'U6',\n",
       " 'M1',\n",
       " '3',\n",
       " 'U6',\n",
       " 'M9',\n",
       " '4']"
      ]
     },
     "execution_count": 18,
     "metadata": {},
     "output_type": "execute_result"
    }
   ],
   "source": [
    "t.collect()"
   ]
  },
  {
   "cell_type": "code",
   "execution_count": null,
   "metadata": {},
   "outputs": [],
   "source": []
  },
  {
   "cell_type": "code",
   "execution_count": 10,
   "metadata": {},
   "outputs": [
    {
     "data": {
      "text/plain": [
       "[['U1', 'M4', '4'],\n",
       " ['U1', 'M4', '3'],\n",
       " ['U1', 'M2', '5'],\n",
       " ['U1', 'M2', '0'],\n",
       " ['U1', 'M3', '2'],\n",
       " ['U2', 'M4', '3'],\n",
       " ['U2', 'M4', '4'],\n",
       " ['U2', 'M4', '5'],\n",
       " ['U3', 'M1', '1'],\n",
       " ['U3', 'M5', '6'],\n",
       " ['U3', 'M4', '4'],\n",
       " ['U3', 'M4', '5'],\n",
       " ['U4', 'M2', '3'],\n",
       " ['U4', 'M1', '1'],\n",
       " ['U4', 'M1', '4'],\n",
       " ['U4', 'M1', '5'],\n",
       " ['U5', 'M1', '3'],\n",
       " ['U5', 'M1', '1'],\n",
       " ['U6', 'M1', '3'],\n",
       " ['U6', 'M9', '4']]"
      ]
     },
     "execution_count": 10,
     "metadata": {},
     "output_type": "execute_result"
    }
   ],
   "source": [
    "tokens2 = records.map(lambda x: x.split(\",\"))\n",
    "tokens2.collect()"
   ]
  },
  {
   "cell_type": "code",
   "execution_count": 20,
   "metadata": {},
   "outputs": [
    {
     "data": {
      "text/plain": [
       "[['U1', 'M4', '4'],\n",
       " ['U1', 'M4', '3'],\n",
       " ['U1', 'M2', '5'],\n",
       " ['U1', 'M2', '0'],\n",
       " ['U1', 'M3', '2'],\n",
       " ['U2', 'M4', '3'],\n",
       " ['U2', 'M4', '4'],\n",
       " ['U2', 'M4', '5'],\n",
       " ['U3', 'M1', '1'],\n",
       " ['U3', 'M4', '4'],\n",
       " ['U3', 'M4', '5'],\n",
       " ['U4', 'M2', '3'],\n",
       " ['U4', 'M1', '1'],\n",
       " ['U4', 'M1', '4'],\n",
       " ['U4', 'M1', '5'],\n",
       " ['U5', 'M1', '3'],\n",
       " ['U5', 'M1', '1'],\n",
       " ['U6', 'M1', '3'],\n",
       " ['U6', 'M9', '4']]"
      ]
     },
     "execution_count": 20,
     "metadata": {},
     "output_type": "execute_result"
    }
   ],
   "source": [
    "#tokens2 = tokens2.map( lambda x: int(x[2]))\n",
    "#tokens2.collect()\n",
    "filtered = tokens2.filter(lambda x:  int(x[2]) <= 5)\n",
    "filtered.collect()\n",
    "#I filtered.collect()"
   ]
  },
  {
   "cell_type": "code",
   "execution_count": null,
   "metadata": {},
   "outputs": [],
   "source": []
  },
  {
   "cell_type": "code",
   "execution_count": null,
   "metadata": {},
   "outputs": [],
   "source": []
  },
  {
   "cell_type": "code",
   "execution_count": null,
   "metadata": {},
   "outputs": [],
   "source": []
  },
  {
   "cell_type": "code",
   "execution_count": null,
   "metadata": {},
   "outputs": [],
   "source": []
  },
  {
   "cell_type": "markdown",
   "metadata": {},
   "source": [
    "# Filter RDD to remove invalid ratings"
   ]
  },
  {
   "cell_type": "code",
   "execution_count": 21,
   "metadata": {},
   "outputs": [
    {
     "data": {
      "text/plain": [
       "[['U1', 'M4', '4'],\n",
       " ['U1', 'M4', '3'],\n",
       " ['U1', 'M2', '5'],\n",
       " ['U1', 'M3', '2'],\n",
       " ['U2', 'M4', '3'],\n",
       " ['U2', 'M4', '4'],\n",
       " ['U2', 'M4', '5'],\n",
       " ['U3', 'M1', '1'],\n",
       " ['U3', 'M4', '4'],\n",
       " ['U3', 'M4', '5'],\n",
       " ['U4', 'M2', '3'],\n",
       " ['U4', 'M1', '1'],\n",
       " ['U4', 'M1', '4'],\n",
       " ['U4', 'M1', '5'],\n",
       " ['U5', 'M1', '3'],\n",
       " ['U5', 'M1', '1'],\n",
       " ['U6', 'M1', '3'],\n",
       " ['U6', 'M9', '4']]"
      ]
     },
     "execution_count": 21,
     "metadata": {},
     "output_type": "execute_result"
    }
   ],
   "source": [
    "t = tokens2.filter(lambda x: x[2]  in  ['1','2','3','4','5'])\n",
    "t.collect()"
   ]
  },
  {
   "cell_type": "markdown",
   "metadata": {},
   "source": [
    "# Number of records before filter"
   ]
  },
  {
   "cell_type": "code",
   "execution_count": 22,
   "metadata": {},
   "outputs": [
    {
     "data": {
      "text/plain": [
       "20"
      ]
     },
     "execution_count": 22,
     "metadata": {},
     "output_type": "execute_result"
    }
   ],
   "source": [
    "tokens2.count()"
   ]
  },
  {
   "cell_type": "markdown",
   "metadata": {},
   "source": [
    "# Number of records after filter"
   ]
  },
  {
   "cell_type": "code",
   "execution_count": 23,
   "metadata": {},
   "outputs": [
    {
     "data": {
      "text/plain": [
       "18"
      ]
     },
     "execution_count": 23,
     "metadata": {},
     "output_type": "execute_result"
    }
   ],
   "source": [
    "t.count()"
   ]
  },
  {
   "cell_type": "markdown",
   "metadata": {},
   "source": [
    "# Perform actions/transformations on RDD to get the desired output"
   ]
  },
  {
   "cell_type": "code",
   "execution_count": 24,
   "metadata": {},
   "outputs": [
    {
     "data": {
      "text/plain": [
       "[('M4', 'U1'),\n",
       " ('M4', 'U1'),\n",
       " ('M2', 'U1'),\n",
       " ('M3', 'U1'),\n",
       " ('M4', 'U2'),\n",
       " ('M4', 'U2'),\n",
       " ('M4', 'U2'),\n",
       " ('M1', 'U3'),\n",
       " ('M4', 'U3'),\n",
       " ('M4', 'U3'),\n",
       " ('M2', 'U4'),\n",
       " ('M1', 'U4'),\n",
       " ('M1', 'U4'),\n",
       " ('M1', 'U4'),\n",
       " ('M1', 'U5'),\n",
       " ('M1', 'U5'),\n",
       " ('M1', 'U6'),\n",
       " ('M9', 'U6')]"
      ]
     },
     "execution_count": 24,
     "metadata": {},
     "output_type": "execute_result"
    }
   ],
   "source": [
    "t2 = t.map(lambda x: (x[1], x[0]))\n",
    "t2.collect()"
   ]
  },
  {
   "cell_type": "code",
   "execution_count": 25,
   "metadata": {},
   "outputs": [
    {
     "data": {
      "text/plain": [
       "[('M4', <pyspark.resultiterable.ResultIterable at 0x10d7a5278>),\n",
       " ('M2', <pyspark.resultiterable.ResultIterable at 0x10d7a52b0>),\n",
       " ('M3', <pyspark.resultiterable.ResultIterable at 0x10d7a5978>),\n",
       " ('M1', <pyspark.resultiterable.ResultIterable at 0x10d7a55f8>),\n",
       " ('M9', <pyspark.resultiterable.ResultIterable at 0x10d7a5710>)]"
      ]
     },
     "execution_count": 25,
     "metadata": {},
     "output_type": "execute_result"
    }
   ],
   "source": [
    "t3 = t2.groupByKey()\n",
    "t3.collect()"
   ]
  },
  {
   "cell_type": "code",
   "execution_count": null,
   "metadata": {},
   "outputs": [],
   "source": []
  },
  {
   "cell_type": "code",
   "execution_count": 26,
   "metadata": {},
   "outputs": [
    {
     "data": {
      "text/plain": [
       "[('M4', ['U1', 'U1', 'U2', 'U2', 'U2', 'U3', 'U3']),\n",
       " ('M2', ['U1', 'U4']),\n",
       " ('M3', ['U1']),\n",
       " ('M1', ['U3', 'U4', 'U4', 'U4', 'U5', 'U5', 'U6']),\n",
       " ('M9', ['U6'])]"
      ]
     },
     "execution_count": 26,
     "metadata": {},
     "output_type": "execute_result"
    }
   ],
   "source": [
    "t4 = t3.map(lambda x: (x[0], list(x[1])))\n",
    "t4.collect()"
   ]
  },
  {
   "cell_type": "markdown",
   "metadata": {},
   "source": [
    "# Create a new function to calculate the unique number of raters"
   ]
  },
  {
   "cell_type": "code",
   "execution_count": 27,
   "metadata": {},
   "outputs": [],
   "source": [
    "def unique_f(x):\n",
    "    unique_set = set() \n",
    "    for z in x:\n",
    "        unique_set.add(z)\n",
    "    return len(unique_set)\n"
   ]
  },
  {
   "cell_type": "code",
   "execution_count": 28,
   "metadata": {},
   "outputs": [
    {
     "data": {
      "text/plain": [
       "[('M4', 7, 3), ('M2', 2, 2), ('M3', 1, 1), ('M1', 7, 4), ('M9', 1, 1)]"
      ]
     },
     "execution_count": 28,
     "metadata": {},
     "output_type": "execute_result"
    }
   ],
   "source": [
    "t5 = t4.map(lambda x: (x[0], len(x[1]), unique_f(x[1])))\n",
    "t5.collect()"
   ]
  },
  {
   "cell_type": "markdown",
   "metadata": {},
   "source": [
    "# Filter RDD for total number of raters less than 2"
   ]
  },
  {
   "cell_type": "code",
   "execution_count": 29,
   "metadata": {},
   "outputs": [
    {
     "data": {
      "text/plain": [
       "[('M4', 7, 3), ('M2', 2, 2), ('M1', 7, 4)]"
      ]
     },
     "execution_count": 29,
     "metadata": {},
     "output_type": "execute_result"
    }
   ],
   "source": [
    "t6 = t5.filter(lambda x: x[2] >= 2)\n",
    "t6.collect()"
   ]
  },
  {
   "cell_type": "code",
   "execution_count": null,
   "metadata": {},
   "outputs": [],
   "source": []
  }
 ],
 "metadata": {
  "kernelspec": {
   "display_name": "Python 3",
   "language": "python",
   "name": "python3"
  },
  "language_info": {
   "codemirror_mode": {
    "name": "ipython",
    "version": 3
   },
   "file_extension": ".py",
   "mimetype": "text/x-python",
   "name": "python",
   "nbconvert_exporter": "python",
   "pygments_lexer": "ipython3",
   "version": "3.7.3"
  }
 },
 "nbformat": 4,
 "nbformat_minor": 2
}
