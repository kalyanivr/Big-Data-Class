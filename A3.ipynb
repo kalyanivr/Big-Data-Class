{
 "cells": [
  {
   "cell_type": "code",
   "execution_count": 1,
   "metadata": {},
   "outputs": [],
   "source": [
    "from __future__ import print_function\n",
    "import sys\n",
    "from operator import add\n",
    "from pyspark.sql import SparkSession"
   ]
  },
  {
   "cell_type": "code",
   "execution_count": 2,
   "metadata": {},
   "outputs": [],
   "source": [
    "spark = SparkSession\\\n",
    ".builder\\\n",
    ".appName(\"Assignment_3\")\\\n",
    ".getOrCreate()"
   ]
  },
  {
   "cell_type": "code",
   "execution_count": 3,
   "metadata": {},
   "outputs": [],
   "source": [
    "input_path = \"/Users/kalyani/Documents/Study/Big_Data/a3.csv\""
   ]
  },
  {
   "cell_type": "code",
   "execution_count": 4,
   "metadata": {},
   "outputs": [],
   "source": [
    "records = spark.sparkContext.textFile(input_path)"
   ]
  },
  {
   "cell_type": "code",
   "execution_count": 5,
   "metadata": {},
   "outputs": [
    {
     "data": {
      "text/plain": [
       "['NAMELAST,NAMEFIRST,NAMEMID,UIN,BDGNBR,ACCESS_TYPE,TOA,POA,TOD,POD,APPT_MADE_DATE,APPT_START_DATE,APPT_END_DATE,APPT_CANCEL_DATE,Total_People,LAST_UPDATEDBY,POST,LASTENTRYDATE,TERMINAL_SUFFIX,visitee_namelast,visitee_namefirst,MEETING_LOC,MEETING_ROOM,CALLER_NAME_LAST,CALLER_NAME_FIRST,CALLER_ROOM,DESCRIPTION,Release_Date',\n",
       " 'TAJOURIBESSASSI,HANENE,,U22101,,VA,,,,,9/2/2015 0:00,10/1/2015 3:00,10/1/2015 23:59,,1,AR,WIN,9/2/2015 11:38,AR,Pelofsky,Eric,OEOB,226,ROWBERRY,ARIANA,,,1/29/2016']"
      ]
     },
     "execution_count": 5,
     "metadata": {},
     "output_type": "execute_result"
    }
   ],
   "source": [
    "records.take(2)"
   ]
  },
  {
   "cell_type": "code",
   "execution_count": 6,
   "metadata": {},
   "outputs": [],
   "source": [
    "tokens = records.map(lambda x: x.lower())"
   ]
  },
  {
   "cell_type": "code",
   "execution_count": 7,
   "metadata": {},
   "outputs": [
    {
     "data": {
      "text/plain": [
       "pyspark.rdd.PipelinedRDD"
      ]
     },
     "execution_count": 7,
     "metadata": {},
     "output_type": "execute_result"
    }
   ],
   "source": [
    "type(tokens)"
   ]
  },
  {
   "cell_type": "code",
   "execution_count": 8,
   "metadata": {},
   "outputs": [
    {
     "data": {
      "text/plain": [
       "['namelast,namefirst,namemid,uin,bdgnbr,access_type,toa,poa,tod,pod,appt_made_date,appt_start_date,appt_end_date,appt_cancel_date,total_people,last_updatedby,post,lastentrydate,terminal_suffix,visitee_namelast,visitee_namefirst,meeting_loc,meeting_room,caller_name_last,caller_name_first,caller_room,description,release_date',\n",
       " 'tajouribessassi,hanene,,u22101,,va,,,,,9/2/2015 0:00,10/1/2015 3:00,10/1/2015 23:59,,1,ar,win,9/2/2015 11:38,ar,pelofsky,eric,oeob,226,rowberry,ariana,,,1/29/2016']"
      ]
     },
     "execution_count": 8,
     "metadata": {},
     "output_type": "execute_result"
    }
   ],
   "source": [
    "tokens.take(2)"
   ]
  },
  {
   "cell_type": "code",
   "execution_count": 9,
   "metadata": {},
   "outputs": [],
   "source": [
    "tokens = tokens.map(lambda x: x.split(','))"
   ]
  },
  {
   "cell_type": "code",
   "execution_count": 10,
   "metadata": {},
   "outputs": [
    {
     "data": {
      "text/plain": [
       "[['namelast',\n",
       "  'namefirst',\n",
       "  'namemid',\n",
       "  'uin',\n",
       "  'bdgnbr',\n",
       "  'access_type',\n",
       "  'toa',\n",
       "  'poa',\n",
       "  'tod',\n",
       "  'pod',\n",
       "  'appt_made_date',\n",
       "  'appt_start_date',\n",
       "  'appt_end_date',\n",
       "  'appt_cancel_date',\n",
       "  'total_people',\n",
       "  'last_updatedby',\n",
       "  'post',\n",
       "  'lastentrydate',\n",
       "  'terminal_suffix',\n",
       "  'visitee_namelast',\n",
       "  'visitee_namefirst',\n",
       "  'meeting_loc',\n",
       "  'meeting_room',\n",
       "  'caller_name_last',\n",
       "  'caller_name_first',\n",
       "  'caller_room',\n",
       "  'description',\n",
       "  'release_date']]"
      ]
     },
     "execution_count": 10,
     "metadata": {},
     "output_type": "execute_result"
    }
   ],
   "source": [
    "tokens.take(1)"
   ]
  },
  {
   "cell_type": "code",
   "execution_count": null,
   "metadata": {},
   "outputs": [],
   "source": []
  },
  {
   "cell_type": "code",
   "execution_count": 11,
   "metadata": {},
   "outputs": [],
   "source": [
    "tokens1 = tokens.map(lambda x: (x[0], x[1],x[2], x[19], x[20]))"
   ]
  },
  {
   "cell_type": "code",
   "execution_count": 12,
   "metadata": {},
   "outputs": [
    {
     "data": {
      "text/plain": [
       "[('namelast', 'namefirst', 'namemid', 'visitee_namelast', 'visitee_namefirst'),\n",
       " ('tajouribessassi', 'hanene', '', 'pelofsky', 'eric')]"
      ]
     },
     "execution_count": 12,
     "metadata": {},
     "output_type": "execute_result"
    }
   ],
   "source": [
    "tokens1.take(2)"
   ]
  },
  {
   "cell_type": "code",
   "execution_count": 13,
   "metadata": {},
   "outputs": [],
   "source": [
    "header = tokens1.first()"
   ]
  },
  {
   "cell_type": "code",
   "execution_count": 14,
   "metadata": {},
   "outputs": [
    {
     "data": {
      "text/plain": [
       "('namelast', 'namefirst', 'namemid', 'visitee_namelast', 'visitee_namefirst')"
      ]
     },
     "execution_count": 14,
     "metadata": {},
     "output_type": "execute_result"
    }
   ],
   "source": [
    "header"
   ]
  },
  {
   "cell_type": "code",
   "execution_count": 15,
   "metadata": {},
   "outputs": [],
   "source": [
    "tokens2 = tokens1.filter(lambda x: x != header)"
   ]
  },
  {
   "cell_type": "code",
   "execution_count": 16,
   "metadata": {},
   "outputs": [
    {
     "data": {
      "text/plain": [
       "[('tajouribessassi', 'hanene', '', 'pelofsky', 'eric'),\n",
       " ('bageant', 'laura', 'j', 'baskerville', 'steven'),\n",
       " ('broemson', 'earl', 'h', 'baskerville', 'steven'),\n",
       " ('jackling jr', 'william', 'c', 'baskerville', 'steven'),\n",
       " ('mccrary', 'richard', 'l', 'baskerville', 'steven')]"
      ]
     },
     "execution_count": 16,
     "metadata": {},
     "output_type": "execute_result"
    }
   ],
   "source": [
    "tokens2.take(5)"
   ]
  },
  {
   "cell_type": "code",
   "execution_count": 17,
   "metadata": {},
   "outputs": [
    {
     "data": {
      "text/plain": [
       "970504"
      ]
     },
     "execution_count": 17,
     "metadata": {},
     "output_type": "execute_result"
    }
   ],
   "source": [
    "tokens2.count()"
   ]
  },
  {
   "cell_type": "markdown",
   "metadata": {},
   "source": [
    "# Filter records where Visitor/Visitee is missing"
   ]
  },
  {
   "cell_type": "code",
   "execution_count": 18,
   "metadata": {},
   "outputs": [],
   "source": [
    "filtered = tokens2.filter(lambda x: x[3] != \"\")"
   ]
  },
  {
   "cell_type": "code",
   "execution_count": 19,
   "metadata": {},
   "outputs": [
    {
     "data": {
      "text/plain": [
       "pyspark.rdd.PipelinedRDD"
      ]
     },
     "execution_count": 19,
     "metadata": {},
     "output_type": "execute_result"
    }
   ],
   "source": [
    "type(filtered)"
   ]
  },
  {
   "cell_type": "code",
   "execution_count": 20,
   "metadata": {},
   "outputs": [
    {
     "data": {
      "text/plain": [
       "[('tajouribessassi', 'hanene', '', 'pelofsky', 'eric'),\n",
       " ('bageant', 'laura', 'j', 'baskerville', 'steven'),\n",
       " ('broemson', 'earl', 'h', 'baskerville', 'steven'),\n",
       " ('jackling jr', 'william', 'c', 'baskerville', 'steven'),\n",
       " ('mccrary', 'richard', 'l', 'baskerville', 'steven'),\n",
       " ('mulcahy', 'joshua', 'e', 'baskerville', 'steven'),\n",
       " ('ryan', 'oliver', 'j', 'baskerville', 'steven'),\n",
       " ('smith jr', 'william', 't', 'baskerville', 'steven'),\n",
       " ('keeler', 'douglas', 'e', 'goldstein', 'jeff'),\n",
       " ('davis', 'justin', 'a', 'drew', 'maj'),\n",
       " ('glover', 'vinson', 'n', 'lengyel', 'jason'),\n",
       " ('ambler', 'andrew', 's', 'office', 'visitors'),\n",
       " ('ambler', 'john', 's', 'office', 'visitors'),\n",
       " ('anderson', 'cindy', 'l', 'office', 'visitors'),\n",
       " ('anderson', 'wayne', 's', 'office', 'visitors'),\n",
       " ('andrade', 'andrea', 'm', 'office', 'visitors'),\n",
       " ('arcelle', 'jeanne', 'l', 'office', 'visitors'),\n",
       " ('arcelle', 'mark', '', 'office', 'visitors'),\n",
       " ('arnold', 'curtis', '', 'office', 'visitors'),\n",
       " ('baade', 'kraig', 'd', 'office', 'visitors'),\n",
       " ('bailey', 'trinity', 'n', 'office', 'visitors'),\n",
       " ('baird', 'scott', 'd', 'office', 'visitors'),\n",
       " ('baker', 'linda', 'c', 'office', 'visitors'),\n",
       " ('baker', 'scott', 'd', 'office', 'visitors'),\n",
       " ('ballentine', 'linda', 'l', 'office', 'visitors'),\n",
       " ('baylor', 'alice', 'j', 'office', 'visitors'),\n",
       " ('baylor', 'franklin', 'j', 'office', 'visitors'),\n",
       " ('bayona', 'carol', 'l', 'office', 'visitors'),\n",
       " ('beck', 'jack', 'e', 'office', 'visitors'),\n",
       " ('beck', 'melanie', 'm', 'office', 'visitors'),\n",
       " ('beckiii', 'edward', 'a', 'office', 'visitors'),\n",
       " ('beckjr', 'edward', 'a', 'office', 'visitors'),\n",
       " ('belellano', 'adriela', 'n', 'office', 'visitors'),\n",
       " ('bierman', 'jerome', '', 'office', 'visitors'),\n",
       " ('bierman', 'rita', '', 'office', 'visitors'),\n",
       " ('birkner', 'ignacio', 'f', 'office', 'visitors'),\n",
       " ('boger', 'christine', 'm', 'office', 'visitors'),\n",
       " ('boger', 'larry', 'a', 'office', 'visitors'),\n",
       " ('bowles', 'joe', 'a', 'office', 'visitors'),\n",
       " ('bowles', 'mary', 'f', 'office', 'visitors'),\n",
       " ('bowser', 'shirley', 'a', 'office', 'visitors'),\n",
       " ('brackett', 'cathy', 'j', 'office', 'visitors'),\n",
       " ('brackett', 'matthew', 'j', 'office', 'visitors'),\n",
       " ('brackett', 'sarahmaria', 'h', 'office', 'visitors'),\n",
       " ('briggs', 'leafrances', '', 'office', 'visitors'),\n",
       " ('broberg', 'erika', 'k', 'office', 'visitors'),\n",
       " ('broberg', 'keith', 'c', 'office', 'visitors'),\n",
       " ('brown', 'annabelle', 'c', 'office', 'visitors'),\n",
       " ('buchholz', 'alexander', 'l', 'office', 'visitors'),\n",
       " ('buckland', 'glenn', 'w', 'office', 'visitors'),\n",
       " ('buckland', 'katherine', 'h', 'office', 'visitors'),\n",
       " ('cain', 'allen', 'b', 'office', 'visitors'),\n",
       " ('carbone', 'deborah', 'a', 'office', 'visitors'),\n",
       " ('cartwright', 'joel', 'd', 'office', 'visitors'),\n",
       " ('castro', 'alexis', 's', 'office', 'visitors'),\n",
       " ('castro', 'elodia', 'n', 'office', 'visitors'),\n",
       " ('castro', 'francisco', 'j', 'office', 'visitors'),\n",
       " ('castro', 'gabriel', 'c', 'office', 'visitors'),\n",
       " ('castro', 'magdalena', 'n', 'office', 'visitors'),\n",
       " ('castro', 'yessenia', 's', 'office', 'visitors'),\n",
       " ('chamberlain', 'colleen', 'f', 'office', 'visitors'),\n",
       " ('chamberlain', 'douglas', 'b', 'office', 'visitors'),\n",
       " ('champagne', 'mary', 'e', 'office', 'visitors'),\n",
       " ('clark', 'carol', 'j', 'office', 'visitors'),\n",
       " ('cole', 'eleanor', 'c', 'office', 'visitors'),\n",
       " ('cole', 'margeva', 'm', 'office', 'visitors'),\n",
       " ('cong', 'peiwu', '', 'office', 'visitors'),\n",
       " ('cooper', 'peter', 'd', 'office', 'visitors'),\n",
       " ('cooper', 'rina', 'm', 'office', 'visitors'),\n",
       " ('court', 'elliot', 'c', 'office', 'visitors'),\n",
       " ('court', 'mabel', 'k', 'office', 'visitors'),\n",
       " ('court', 'michael', 'c', 'office', 'visitors'),\n",
       " ('court', 'oliver', 'c', 'office', 'visitors'),\n",
       " ('court', 'stella', 'r', 'office', 'visitors'),\n",
       " ('court', 'stephanie', 'p', 'office', 'visitors'),\n",
       " ('court', 'stephen', 'g', 'office', 'visitors'),\n",
       " ('court', 'susan', 'b', 'office', 'visitors'),\n",
       " ('cui', 'tiankai', '', 'office', 'visitors'),\n",
       " ('curran', 'brian', 'c', 'office', 'visitors'),\n",
       " ('dastur', 'alena', 'm', 'office', 'visitors'),\n",
       " ('deltoro', 'theresa', 'c', 'office', 'visitors'),\n",
       " ('dennis', 'patsy', '', 'office', 'visitors'),\n",
       " ('desario', 'caroline', '', 'office', 'visitors'),\n",
       " ('desario', 'douglas', 'a', 'office', 'visitors'),\n",
       " ('destefanis', 'deborah', 'a', 'office', 'visitors'),\n",
       " ('destefanis', 'ralph', 'j', 'office', 'visitors'),\n",
       " ('ding', 'xuexiang', '', 'office', 'visitors'),\n",
       " ('drake', 'dale', 'f', 'office', 'visitors'),\n",
       " ('drake', 'john', 'h', 'office', 'visitors'),\n",
       " ('eidem', 'debora', 'a', 'office', 'visitors'),\n",
       " ('eidem', 'douglas', 'l', 'office', 'visitors'),\n",
       " ('elhamad', 'ahmad', '', 'office', 'visitors'),\n",
       " ('elhamad', 'jasmin', 'f', 'office', 'visitors'),\n",
       " ('fa', 'jun', '', 'office', 'visitors'),\n",
       " ('falgout', 'molli', 'm', 'office', 'visitors'),\n",
       " ('falgout', 'tyrel', 'o', 'office', 'visitors'),\n",
       " ('farris', 'gregory', 'm', 'office', 'visitors'),\n",
       " ('farris', 'tran', 'c', 'office', 'visitors'),\n",
       " ('fiedler', 'bruce', 'n', 'office', 'visitors'),\n",
       " ('fisher', 'bruce', 'd', 'office', 'visitors'),\n",
       " ('fisher', 'melinda', 'b', 'office', 'visitors'),\n",
       " ('ford', 'jennifer', 'l', 'office', 'visitors'),\n",
       " ('ford', 'terry', 'j', 'office', 'visitors'),\n",
       " ('frutig', 'dawn', 'c', 'office', 'visitors'),\n",
       " ('frutig', 'richard', 'e', 'office', 'visitors'),\n",
       " ('fuerthmarx', 'cheryl', 'c', 'office', 'visitors'),\n",
       " ('gao', 'hucheng', '', 'office', 'visitors'),\n",
       " ('garcia', 'armando', 'n', 'office', 'visitors'),\n",
       " ('garcia', 'crystal', 'n', 'office', 'visitors'),\n",
       " ('gee', 'sanaa', 'h', 'office', 'visitors'),\n",
       " ('gilgallon', 'kevin', 'b', 'office', 'visitors'),\n",
       " ('goldberg', 'johanna', '', 'office', 'visitors'),\n",
       " ('goldberg', 'martin', 'l', 'office', 'visitors'),\n",
       " ('grider', 'cathy', 'l', 'office', 'visitors'),\n",
       " ('griffith', 'derek', 'd', 'office', 'visitors'),\n",
       " ('gunderman', 'scott', 's', 'office', 'visitors'),\n",
       " ('gust', 'arlene', 'j', 'office', 'visitors'),\n",
       " ('gust', 'douglas', 'h', 'office', 'visitors'),\n",
       " ('gustafson', 'donna', 's', 'office', 'visitors'),\n",
       " ('gustafson', 'kenzie', 'l', 'office', 'visitors'),\n",
       " ('gustafson', 'scott', 'c', 'office', 'visitors'),\n",
       " ('hallahan', 'anna', 'v', 'office', 'visitors'),\n",
       " ('han', 'changfu', '', 'office', 'visitors'),\n",
       " ('han', 'liping', '', 'office', 'visitors'),\n",
       " ('hart', 'kimberly', 'l', 'office', 'visitors'),\n",
       " ('hatch', 'hannah', 'j', 'office', 'visitors'),\n",
       " ('hatch', 'hyrum', 'd', 'office', 'visitors'),\n",
       " ('hatch', 'jamie', 'r', 'office', 'visitors'),\n",
       " ('hatch', 'jotham', 'd', 'office', 'visitors'),\n",
       " ('heltzel', 'dianne', 'p', 'office', 'visitors'),\n",
       " ('herman', 'erika', 'h', 'office', 'visitors'),\n",
       " ('herman', 'randy', 'd', 'office', 'visitors'),\n",
       " ('hileman', 'james', 'r', 'office', 'visitors'),\n",
       " ('hileman', 'sharon', 'l', 'office', 'visitors'),\n",
       " ('ish', 'david', 'm', 'office', 'visitors'),\n",
       " ('jansen', 'jennifer', 'm', 'office', 'visitors'),\n",
       " ('jensen', 'kelly', 'r', 'office', 'visitors'),\n",
       " ('jones', 'amy', 'l', 'office', 'visitors'),\n",
       " ('jones', 'kevin', 'r', 'office', 'visitors'),\n",
       " ('juarez', 'diana', 'v', 'office', 'visitors'),\n",
       " ('kado', 'donald', 'e', 'office', 'visitors'),\n",
       " ('karczag', 'malka', '', 'office', 'visitors'),\n",
       " ('karczag', 'moses', '', 'office', 'visitors'),\n",
       " ('kempers', 'christian', 'a', 'office', 'visitors'),\n",
       " ('kempers', 'john', 's', 'office', 'visitors'),\n",
       " ('kempers', 'kevin', 'g', 'office', 'visitors'),\n",
       " ('king', 'susanna', 'k', 'office', 'visitors'),\n",
       " ('lang', 'camille', 'j', 'office', 'visitors'),\n",
       " ('langford', 'andrew', 'j', 'office', 'visitors'),\n",
       " ('langford', 'mary', 's', 'office', 'visitors'),\n",
       " ('lewis', 'cheryl', 't', 'office', 'visitors'),\n",
       " ('li', 'yaguang', '', 'office', 'visitors'),\n",
       " ('li', 'zhanshu', '', 'office', 'visitors'),\n",
       " ('lieb', 'stephen', 'c', 'office', 'visitors'),\n",
       " ('liu', 'he', '', 'office', 'visitors'),\n",
       " ('loeschcrist', 'beatrice', 'c', 'office', 'visitors'),\n",
       " ('lopez', 'abraham', 'a', 'office', 'visitors'),\n",
       " ('lu', 'kang', '', 'office', 'visitors'),\n",
       " ('ludtke', 'kimbal', 'j', 'office', 'visitors'),\n",
       " ('ludtke', 'nancy', 'a', 'office', 'visitors'),\n",
       " ('lynch', 'matthew', 'g', 'office', 'visitors'),\n",
       " ('lynch', 'sheryllynne', '', 'office', 'visitors'),\n",
       " ('lyu', 'luhua', '', 'office', 'visitors'),\n",
       " ('mackinnon', 'ann', 'f', 'office', 'visitors'),\n",
       " ('mackinnon', 'thomas', 'l', 'office', 'visitors'),\n",
       " ('macnaughton', 'kelsey', 'a', 'office', 'visitors'),\n",
       " ('malek', 'afrodit', '', 'office', 'visitors'),\n",
       " ('maloy', 'betty', 'a', 'office', 'visitors'),\n",
       " ('marx', 'claus', 'b', 'office', 'visitors'),\n",
       " ('mcneil', 'jeremiah', 'j', 'office', 'visitors'),\n",
       " ('mcneil', 'ronald', '', 'office', 'visitors'),\n",
       " ('mills', 'kathryn', 'e', 'office', 'visitors'),\n",
       " ('mitchell', 'daniel', 'a', 'office', 'visitors'),\n",
       " ('mitchell', 'lauren', 'a', 'office', 'visitors'),\n",
       " ('montana', 'angelina', 'r', 'office', 'visitors'),\n",
       " ('moos', 'joyce', 'e', 'office', 'visitors'),\n",
       " ('moos', 'marvin', 'd', 'office', 'visitors'),\n",
       " ('moses', 'susan', 'j', 'office', 'visitors'),\n",
       " ('moses', 'thomas', 'r', 'office', 'visitors'),\n",
       " ('mullenish', 'mary', 'h', 'office', 'visitors'),\n",
       " ('neese', 'gerold', 'e', 'office', 'visitors'),\n",
       " ('newell', 'joni', 'c', 'office', 'visitors'),\n",
       " ('ni', 'peijun', '', 'office', 'visitors'),\n",
       " ('niebuhr', 'skyler', 'k', 'office', 'visitors'),\n",
       " ('nisley', 'travis', 'f', 'office', 'visitors'),\n",
       " ('norton', 'debra', 'l', 'office', 'visitors'),\n",
       " ('oconnell', 'jason', 'g', 'office', 'visitors'),\n",
       " ('oconnell', 'liam', 'm', 'office', 'visitors'),\n",
       " ('oconnell', 'matthew', 'j', 'office', 'visitors'),\n",
       " ('oconnell', 'meghan', 'm', 'office', 'visitors'),\n",
       " ('oconnell', 'terence', 'm', 'office', 'visitors'),\n",
       " ('oghalai', 'aidan', 'm', 'office', 'visitors'),\n",
       " ('oghalai', 'amy', 'w', 'office', 'visitors'),\n",
       " ('oghalai', 'jack', 's', 'office', 'visitors'),\n",
       " ('oghalai', 'mark', 'a', 'office', 'visitors'),\n",
       " ('olsen', 'ronnie', 's', 'office', 'visitors'),\n",
       " ('ortiz', 'neomi', 'f', 'office', 'visitors'),\n",
       " ('ortiz', 'valerie', 'm', 'office', 'visitors'),\n",
       " ('overfield', 'debra', 'l', 'office', 'visitors'),\n",
       " ('overfield', 'gregory', 'h', 'office', 'visitors'),\n",
       " ('overfield', 'peter', 'j', 'office', 'visitors'),\n",
       " ('parker', 'melanie', '', 'office', 'visitors'),\n",
       " ('pellissier', 'lorelei', 'm', 'office', 'visitors'),\n",
       " ('pellissier', 'michele', '', 'office', 'visitors'),\n",
       " ('peng', 'liyuan', '', 'office', 'visitors'),\n",
       " ('perzedwards', 'avery', 'k', 'office', 'visitors'),\n",
       " ('perzinski', 'leon', 'm', 'office', 'visitors'),\n",
       " ('phillips', 'pamela', 'm', 'office', 'visitors'),\n",
       " ('pixton', 'darel', 'r', 'office', 'visitors'),\n",
       " ('pixton', 'karen', 'w', 'office', 'visitors'),\n",
       " ('primus', 'juliana', 'm', 'office', 'visitors'),\n",
       " ('purcell', 'deborah', 'n', 'office', 'visitors'),\n",
       " ('purcell', 'glen', 'r', 'office', 'visitors'),\n",
       " ('qin', 'gang', '', 'office', 'visitors'),\n",
       " ('qualls', 'nancy', 'j', 'office', 'visitors'),\n",
       " ('quinlan', 'ashely', 'a', 'office', 'visitors'),\n",
       " ('quinlan', 'daniel', 's', 'office', 'visitors'),\n",
       " ('quinlan', 'edward', 'v', 'office', 'visitors'),\n",
       " ('rast', 'michael', 'h', 'office', 'visitors'),\n",
       " ('rast', 'roxanne', 'k', 'office', 'visitors'),\n",
       " ('rathbunnisley', 'ricci', 'l', 'office', 'visitors'),\n",
       " ('regil', 'byanca', 'n', 'office', 'visitors'),\n",
       " ('regil', 'julio', 'm', 'office', 'visitors'),\n",
       " ('reid', 'melissa', 'c', 'office', 'visitors'),\n",
       " ('reid', 'richard', 'l', 'office', 'visitors'),\n",
       " ('rodeback', 'shawn', 't', 'office', 'visitors'),\n",
       " ('rodriguez', 'patricia', 'e', 'office', 'visitors'),\n",
       " ('rodriguez', 'robert', 'j', 'office', 'visitors'),\n",
       " ('sachs', 'william', 'i', 'office', 'visitors'),\n",
       " ('sandberg', 'joanne', 'e', 'office', 'visitors'),\n",
       " ('sandberg', 'tod', 'o', 'office', 'visitors'),\n",
       " ('sawyer', 'erica', 'v', 'office', 'visitors'),\n",
       " ('sawyer', 'nathaniel', 'a', 'office', 'visitors'),\n",
       " ('schaub', 'alice', 'a', 'office', 'visitors'),\n",
       " ('schwartz', 'rita', '', 'office', 'visitors'),\n",
       " ('scott', 'jaimelle', 'm', 'office', 'visitors'),\n",
       " ('scott', 'krishana', 'l', 'office', 'visitors'),\n",
       " ('sharp', 'diana', 'l', 'office', 'visitors'),\n",
       " ('sharp', 'milo', 'l', 'office', 'visitors'),\n",
       " ('shirra', 'michael', 'g', 'office', 'visitors'),\n",
       " ('shore', 'sharon', 'r', 'office', 'visitors'),\n",
       " ('siegfried', 'leilani', 'a', 'office', 'visitors'),\n",
       " ('smith', 'allison', 'j', 'office', 'visitors'),\n",
       " ('smith', 'christopher', 'w', 'office', 'visitors'),\n",
       " ('smith', 'kershaw', 'w', 'office', 'visitors'),\n",
       " ('smith', 'robyn', 'e', 'office', 'visitors'),\n",
       " ('smith', 'sterling', 'm', 'office', 'visitors'),\n",
       " ('stalnaker', 'sydney', 'm', 'office', 'visitors'),\n",
       " ('stearns', 'margaret', 'j', 'office', 'visitors'),\n",
       " ('stearns', 'shavonn', 'l', 'office', 'visitors'),\n",
       " ('stoke', 'frederick', '', 'office', 'visitors'),\n",
       " ('tarantin', 'daniel', '', 'office', 'visitors'),\n",
       " ('teitelbaum', 'asher', '', 'office', 'visitors'),\n",
       " ('teitelbaum', 'jacob', '', 'office', 'visitors'),\n",
       " ('teitelbaum', 'joel', '', 'office', 'visitors'),\n",
       " ('teitelbaum', 'joseph', '', 'office', 'visitors'),\n",
       " ('teitelbaum', 'rachel', '', 'office', 'visitors'),\n",
       " ('tiu', 'joyce', 'd', 'office', 'visitors'),\n",
       " ('tomberlin', 'david', 'h', 'office', 'visitors'),\n",
       " ('tomberlin', 'kristi', 'b', 'office', 'visitors'),\n",
       " ('toth', 'angela', 'n', 'office', 'visitors'),\n",
       " ('toth', 'john', 'a', 'office', 'visitors'),\n",
       " ('tran', 'hao', 'n', 'office', 'visitors'),\n",
       " ('tung', 'chihwa', '', 'office', 'visitors'),\n",
       " ('vargo', 'sonie', 's', 'office', 'visitors'),\n",
       " ('vaz', 'sherri', 'l', 'office', 'visitors'),\n",
       " ('versluis', 'joseph', 'a', 'office', 'visitors'),\n",
       " ('walker', 'claudette', 'j', 'office', 'visitors'),\n",
       " ('wang', 'huning', '', 'office', 'visitors'),\n",
       " ('wang', 'shaojun', '', 'office', 'visitors'),\n",
       " ('wang', 'yi', '', 'office', 'visitors'),\n",
       " ('weiss', 'chana', 'b', 'office', 'visitors'),\n",
       " ('weiss', 'chaya', '', 'office', 'visitors'),\n",
       " ('weiss', 'elky', 'd', 'office', 'visitors'),\n",
       " ('weiss', 'joseph', 'n', 'office', 'visitors'),\n",
       " ('weiss', 'joseph', 'r', 'office', 'visitors'),\n",
       " ('weiss', 'yitzchok', '', 'office', 'visitors'),\n",
       " ('weiss', 'zissy', '', 'office', 'visitors'),\n",
       " ('wetzel', 'daniel', 'i', 'office', 'visitors'),\n",
       " ('wetzel', 'london', 'c', 'office', 'visitors'),\n",
       " ('wetzel', 'madison', 'd', 'office', 'visitors'),\n",
       " ('wetzel', 'misty', 'm', 'office', 'visitors'),\n",
       " ('wheaton', 'kimberly', 's', 'office', 'visitors'),\n",
       " ('wilhoit', 'rebecca', 'l', 'office', 'visitors'),\n",
       " ('windnagel', 'dave', '', 'office', 'visitors'),\n",
       " ('windnagel', 'jackie', '', 'office', 'visitors'),\n",
       " ('wu', 'xi', '', 'office', 'visitors'),\n",
       " ('xu', 'shaoshi', '', 'office', 'visitors'),\n",
       " ('yang', 'jiechi', '', 'office', 'visitors'),\n",
       " ('yoho', 'donald', 'r', 'office', 'visitors'),\n",
       " ('yu', 'fei', '', 'office', 'visitors'),\n",
       " ('zhang', 'yesui', '', 'office', 'visitors'),\n",
       " ('zheng', 'zeguang', '', 'office', 'visitors'),\n",
       " ('zhi', 'shuping', '', 'office', 'visitors'),\n",
       " ('zhu', 'guangyao', '', 'office', 'visitors'),\n",
       " ('zinke', 'william', '', 'office', 'visitors'),\n",
       " ('mielke', 'megann', 'c', 'mielke', 'dawn'),\n",
       " ('sullivan', 'maura', 'c', 'diamond', 'rob'),\n",
       " ('bayona', 'carol', 'n', 'office', 'visitors'),\n",
       " ('gust', 'arlene', 'n', 'office', 'visitors'),\n",
       " ('aflague', 'tatum', 'r', 'office', 'visitors'),\n",
       " ('ashooh', 'emma', 'l', 'office', 'visitors'),\n",
       " ('bastien', 'diana', 'm', 'office', 'visitors'),\n",
       " ('bastien', 'randal', 'f', 'office', 'visitors'),\n",
       " ('bienaime', 'carline', 'n', 'office', 'visitors'),\n",
       " ('bilowich', 'juliana', 'a', 'office', 'visitors'),\n",
       " ('bird', 'karen', 'd', 'office', 'visitors'),\n",
       " ('broadwell', 'elaina', 'l', 'office', 'visitors'),\n",
       " ('broadwell', 'marsha', 'm', 'office', 'visitors'),\n",
       " ('broadwell', 'ryan', 'l', 'office', 'visitors'),\n",
       " ('brown', 'scott', 't', 'office', 'visitors'),\n",
       " ('cameron', 'shirely', 'a', 'office', 'visitors'),\n",
       " ('caraway', 'martin', 'j', 'office', 'visitors'),\n",
       " ('cescolini', 'andrea', 's', 'office', 'visitors'),\n",
       " ('cole', 'brownie', 'e', 'office', 'visitors'),\n",
       " ('cole', 'elizabeth', 's', 'office', 'visitors'),\n",
       " ('cole', 'maryellen', 't', 'office', 'visitors'),\n",
       " ('cole', 'william', 'p', 'office', 'visitors'),\n",
       " ('colon', 'sarah', 'p', 'office', 'visitors'),\n",
       " ('davis', 'irving', 'g', 'office', 'visitors'),\n",
       " ('ellwanger', 'aragon', 'r', 'office', 'visitors'),\n",
       " ('grant', 'charles', 'a', 'office', 'visitors'),\n",
       " ('grant', 'judith', 'm', 'office', 'visitors'),\n",
       " ('grossman', 'karen', 's', 'office', 'visitors'),\n",
       " ('henning', 'judith', 'a', 'office', 'visitors'),\n",
       " ('hensel', 'eric', 'c', 'office', 'visitors'),\n",
       " ('holland', 'camryn', 'l', 'office', 'visitors'),\n",
       " ('holland', 'joseph', 'f', 'office', 'visitors'),\n",
       " ('holland', 'marilyn', 'm', 'office', 'visitors'),\n",
       " ('holland', 'sherri', 'a', 'office', 'visitors'),\n",
       " ('holland', 'william', 'f', 'office', 'visitors'),\n",
       " ('hudson', 'hakimah', 'b', 'office', 'visitors'),\n",
       " ('huskin', 'gail', 'h', 'office', 'visitors'),\n",
       " ('ingram', 'carol', 'a', 'office', 'visitors'),\n",
       " ('johnson', 'harold', 'e', 'office', 'visitors'),\n",
       " ('johnson', 'mary', 'l', 'office', 'visitors'),\n",
       " ('joyce', 'nancy', 'e', 'office', 'visitors'),\n",
       " ('lazar', 'lauramarie', '', 'office', 'visitors'),\n",
       " ('lewis', 'douglas', 'e', 'office', 'visitors'),\n",
       " ('lewis', 'lottie', 'm', 'office', 'visitors'),\n",
       " ('logan', 'malie', 'r', 'office', 'visitors'),\n",
       " ('lynn', 'susan', '', 'office', 'visitors'),\n",
       " ('martinez', 'david', 'j', 'office', 'visitors'),\n",
       " ('maybaum', 'amy', 'm', 'office', 'visitors'),\n",
       " ('maybaum', 'keaton', 't', 'office', 'visitors'),\n",
       " ('maybaum', 'robert', 'v', 'office', 'visitors'),\n",
       " ('mcauliffe', 'jacob', 'd', 'office', 'visitors'),\n",
       " ('mccaskill', 'amy', 'm', 'office', 'visitors'),\n",
       " ('mccaskill', 'nancy', 'c', 'office', 'visitors'),\n",
       " ('moffitt', 'carrie', 'd', 'office', 'visitors'),\n",
       " ('moffitt', 'elijah', 'j', 'office', 'visitors'),\n",
       " ('moffitt', 'jesse', 'm', 'office', 'visitors'),\n",
       " ('moffittjr', 'jesse', 'm', 'office', 'visitors'),\n",
       " ('myers', 'ceaphas', 'j', 'office', 'visitors'),\n",
       " ('nall', 'james', 'p', 'office', 'visitors'),\n",
       " ('patten', 'gerald', 'w', 'office', 'visitors'),\n",
       " ('pelt', 'george', 'o', 'office', 'visitors'),\n",
       " ('pelt', 'sandra', 'k', 'office', 'visitors'),\n",
       " ('perezochoa', 'karla', 'i', 'office', 'visitors'),\n",
       " ('princemcmulle', 'marcy', 'l', 'office', 'visitors'),\n",
       " ('rabin', 'jennifer', 'l', 'office', 'visitors'),\n",
       " ('rose', 'nathan', 'p', 'office', 'visitors'),\n",
       " ('roseme', 'dieumene', 'n', 'office', 'visitors'),\n",
       " ('roseme', 'dieunette', 'n', 'office', 'visitors'),\n",
       " ('sarmiento', 'jonneane', 'm', 'office', 'visitors'),\n",
       " ('schaidle', 'barbara', 'a', 'office', 'visitors'),\n",
       " ('schaidle', 'john', 'f', 'office', 'visitors'),\n",
       " ('smith', 'ruth', 'c', 'office', 'visitors'),\n",
       " ('stone', 'charles', 's', 'office', 'visitors'),\n",
       " ('stone', 'joanne', 'e', 'office', 'visitors'),\n",
       " ('swick', 'charles', 'd', 'office', 'visitors'),\n",
       " ('swick', 'connie', 's', 'office', 'visitors'),\n",
       " ('swindle', 'frankie', 'l', 'office', 'visitors'),\n",
       " ('trainor', 'agnes', 'j', 'office', 'visitors'),\n",
       " ('trainor', 'brenda', 'j', 'office', 'visitors'),\n",
       " ('walters', 'maria', 'e', 'office', 'visitors'),\n",
       " ('walters', 'monica', 'e', 'office', 'visitors'),\n",
       " ('walters', 'robert', 'g', 'office', 'visitors'),\n",
       " ('weakley', 'brianjames', 'd', 'office', 'visitors'),\n",
       " ('weyand', 'cornelia', 'm', 'office', 'visitors'),\n",
       " ('wiggins', 'linda', 'k', 'office', 'visitors'),\n",
       " ('wilson', 'richard', 'd', 'office', 'visitors'),\n",
       " ('wilsonmeyer', 'margot', 'z', 'office', 'visitors'),\n",
       " ('wisniewski', 'katherine', 'e', 'office', 'visitors'),\n",
       " ('wolfe', 'brian', 'd', 'office', 'visitors'),\n",
       " ('zepfel', 'ida', 'm', 'office', 'visitors'),\n",
       " ('adams', 'joann', '', 'robinson', 'ryan'),\n",
       " ('atkins', 'shirley', 'a', 'robinson', 'ryan'),\n",
       " ('atkins', 'william', '', 'robinson', 'ryan'),\n",
       " ('bailey', 'elaine', 'k', 'robinson', 'ryan'),\n",
       " ('bassermann', 'jacqueline', 'g', 'robinson', 'ryan'),\n",
       " ('boline', 'lisa', 'm', 'robinson', 'ryan'),\n",
       " ('bordonaro', 'james', 'a', 'robinson', 'ryan'),\n",
       " ('boyles', 'richard', 'c', 'raymond', 'don'),\n",
       " ('burger', 'julia', 'j', 'robinson', 'ryan'),\n",
       " ('caliva', 'leslie', 'b', 'robinson', 'ryan'),\n",
       " ('calivajr', 'narciso', '', 'robinson', 'ryan'),\n",
       " ('cazort', 'jane', 'm', 'robinson', 'ryan'),\n",
       " ('chapman', 'mary', 'l', 'robinson', 'ryan'),\n",
       " ('close', 'virginia', 'd', 'robinson', 'ryan'),\n",
       " ('conklin', 'carolyn', 's', 'robinson', 'ryan'),\n",
       " ('cotton', 'john', 'l', 'robinson', 'ryan'),\n",
       " ('cotton', 'kathryn', 's', 'robinson', 'ryan'),\n",
       " ('cranor', 'linda', 'l', 'robinson', 'ryan'),\n",
       " ('daniels', 'todd', 'l', 'raymond', 'don'),\n",
       " ('dayhoff', 'gerald', 'e', 'raymond', 'don'),\n",
       " ('donaldson', 'jeffrey', 'l', 'robinson', 'ryan'),\n",
       " ('donaldson', 'judith', 'h', 'robinson', 'ryan'),\n",
       " ('drake', 'jane', 'a', 'robinson', 'ryan'),\n",
       " ('drake', 'john', 'm', 'robinson', 'ryan'),\n",
       " ('dunn', 'donna', 'c', 'robinson', 'ryan'),\n",
       " ('dunn', 'john', 't', 'robinson', 'ryan'),\n",
       " ('glienke', 'carl', 'j', 'dunnuck', 'rick'),\n",
       " ('good', 'andrew', 'j', 'jeffeson', 'trina'),\n",
       " ('grayson', 'shelia', 'j', 'robinson', 'ryan'),\n",
       " ('gulley', 'margaret', 'o', 'robinson', 'ryan'),\n",
       " ('heaston', 'dorris', 'r', 'robinson', 'ryan'),\n",
       " ('heaston', 'william', 'p', 'robinson', 'ryan'),\n",
       " ('hess', 'frances', 'c', 'robinson', 'ryan'),\n",
       " ('hines', 'mary', 'y', 'robinson', 'ryan'),\n",
       " ('hollohan', 'judith', 'l', 'robinson', 'ryan'),\n",
       " ('ilagan', 'adrian', '', 'urbanski', 'taylor'),\n",
       " ('johnson', 'rene', '', 'robinson', 'ryan'),\n",
       " ('langley', 'koby', 'j', 'robinson', 'ryan'),\n",
       " ('link', 'robert', 'a', 'raymond', 'don'),\n",
       " ('macias', 'peter', 'm', 'robinson', 'ryan'),\n",
       " ('macswain', 'deborah', 'f', 'robinson', 'ryan'),\n",
       " ('macswain', 'james', 'r', 'robinson', 'ryan'),\n",
       " ('marshall', 'jason', 'w', 'robinson', 'ryan'),\n",
       " ('mchale', 'roberta', 'a', 'robinson', 'ryan'),\n",
       " ('mckniff', 'joan', '', 'robinson', 'ryan'),\n",
       " ('morton', 'caroline', 's', 'robinson', 'ryan'),\n",
       " ('murdock', 'john', 'm', 'robinson', 'ryan'),\n",
       " ('perry', 'jessica', 'l', 'robinson', 'ryan'),\n",
       " ('perry', 'patricia', 'a', 'robinson', 'ryan'),\n",
       " ('pinto', 'carol', 'a', 'robinson', 'ryan'),\n",
       " ('powers', 'dana', 'a', 'robinson', 'ryan'),\n",
       " ('powers', 'shirley', 'l', 'robinson', 'ryan'),\n",
       " ('pullias', 'susan', 'e', 'robinson', 'ryan'),\n",
       " ('reichel', 'christina', 'a', 'robinson', 'ryan'),\n",
       " ('richter', 'frank', 'j', 'robinson', 'ryan'),\n",
       " ('richter', 'sue', 'a', 'robinson', 'ryan'),\n",
       " ('robinson', 'pamela', 'l', 'robinson', 'ryan'),\n",
       " ('roth', 'theodore', '', 'robinson', 'ryan'),\n",
       " ('rothman', 'judy', 'k', 'robinson', 'ryan'),\n",
       " ('rothman', 'leonard', 'j', 'robinson', 'ryan'),\n",
       " ('ryan', 'william', 'f', 'raymond', 'don'),\n",
       " ('schell', 'jack', 'a', 'robinson', 'ryan'),\n",
       " ('schulte', 'linda', 's', 'robinson', 'ryan'),\n",
       " ('seldon', 'carolyn', 'a', 'robinson', 'ryan'),\n",
       " ('smith', 'estelle', '', 'robinson', 'ryan'),\n",
       " ('specht', 'des', 't', 'raymond', 'don'),\n",
       " ('stephens', 'barbara', 'a', 'robinson', 'ryan'),\n",
       " ('stokes', 'arron', 'm', 'dunnuck', 'rick'),\n",
       " ('strope', 'miriam', 'n', 'robinson', 'ryan'),\n",
       " ('swindley', 'maryjane', '', 'robinson', 'ryan'),\n",
       " ('tanner', 'betsy', 'k', 'robinson', 'ryan'),\n",
       " ('taylor', 'maxine', 'f', 'robinson', 'ryan'),\n",
       " ('turnbaugh', 'brady', 'l', 'raymond', 'don'),\n",
       " ('undercoffer', 'kathryn', 'l', 'robinson', 'ryan'),\n",
       " ('undercoffer', 'martha', 'j', 'robinson', 'ryan'),\n",
       " ('vanpatten', 'matthew', 'r', 'hatcher', 'kelvin'),\n",
       " ('walker', 'herbert', 's', 'raymond', 'don'),\n",
       " ('walters', 'jaclyn', 'a', 'robinson', 'ryan'),\n",
       " ('watson', 'susan', 'r', 'robinson', 'ryan'),\n",
       " ('webb', 'linda', 'm', 'robinson', 'ryan'),\n",
       " ('wells', 'kenney', 'h', 'edwards', 'jonathan'),\n",
       " ('williams', 'eric', 'h', 'raymond', 'don'),\n",
       " ('williams', 'margaret', 'c', 'robinson', 'ryan'),\n",
       " ('wooldridge', 'elizabeth', 'p', 'robinson', 'ryan'),\n",
       " ('wright', 'elsie', 'r', 'robinson', 'ryan'),\n",
       " ('young', 'jennifer', 'j', 'robinson', 'ryan'),\n",
       " ('jones', 'amy', 'n', 'office', 'visitors'),\n",
       " ('sharp', 'milo', 'n', 'office', 'visitors'),\n",
       " ('brull', 'rachel', 'n', 'office', 'visitors'),\n",
       " ('huskins', 'gail', 'n', 'office', 'visitors'),\n",
       " ('teitelbaum', 'malka', 'n', 'office', 'visitors'),\n",
       " ('malie', 'logan', 'n', 'office', 'visitors'),\n",
       " ('abdelaziz', 'musa', 'r', 'office', 'visitors'),\n",
       " ('abreu', 'hector', 'm', 'office', 'visitors'),\n",
       " ('adams', 'ashanti', 'a', 'office', 'visitors'),\n",
       " ('adams', 'judi', '', 'office', 'visitors'),\n",
       " ('amos', 'walter', 'l', 'office', 'visitors'),\n",
       " ('anderson', 'delores', 'e', 'office', 'visitors'),\n",
       " ('anderson', 'jimmy', 'r', 'office', 'visitors'),\n",
       " ('anderson', 'nathan', 'o', 'office', 'visitors'),\n",
       " ('arakawa', 'ellen', 'y', 'office', 'visitors'),\n",
       " ('autrey', 'margaret', 'e', 'office', 'visitors'),\n",
       " ('bakhorn', 'jeffrey', 'f', 'office', 'visitors'),\n",
       " ('banks', 'ashlynn', 's', 'office', 'visitors'),\n",
       " ('barnes', 'dominick', 'j', 'office', 'visitors'),\n",
       " ('barnhart', 'jack', 'a', 'office', 'visitors'),\n",
       " ('benicarlo', 'nohealani', 'r', 'office', 'visitors'),\n",
       " ('benston', 'nathaniel', '', 'office', 'visitors'),\n",
       " ('besmer', 'alexander', 'v', 'office', 'visitors'),\n",
       " ('besmer', 'victoria', 'l', 'office', 'visitors'),\n",
       " ('besmer', 'vlad', 'm', 'office', 'visitors'),\n",
       " ('black', 'zaria', 'k', 'office', 'visitors'),\n",
       " ('bratten', 'troy', 'c', 'office', 'visitors'),\n",
       " ('brennan', 'ian', 'p', 'office', 'visitors'),\n",
       " ('briceno', 'christine', 'm', 'office', 'visitors'),\n",
       " ('briceno', 'ricardo', 'm', 'office', 'visitors'),\n",
       " ('brinson', 'asia', 'c', 'office', 'visitors'),\n",
       " ('brodie', 'tyrese', 't', 'office', 'visitors'),\n",
       " ('brown', 'bradley', 'r', 'office', 'visitors'),\n",
       " ('brown', 'lindell', 'l', 'office', 'visitors'),\n",
       " ('burl', 'chelsey', 'm', 'office', 'visitors'),\n",
       " ('burl', 'michelle', 'b', 'office', 'visitors'),\n",
       " ('burl', 'timedra', 'r', 'office', 'visitors'),\n",
       " ('burljr', 'reginald', 'h', 'office', 'visitors'),\n",
       " ('burlsr', 'reginald', 'h', 'office', 'visitors'),\n",
       " ('burtonferguson', 'khoron', '', 'office', 'visitors'),\n",
       " ('butt', 'sarah', 'e', 'office', 'visitors'),\n",
       " ('byrd', 'justice', 'o', 'office', 'visitors'),\n",
       " ('byrd', 'khadija', 's', 'office', 'visitors'),\n",
       " ('byrd', 'maggie', 'l', 'office', 'visitors'),\n",
       " ('byrd', 'wandra', 'g', 'office', 'visitors'),\n",
       " ('canty', 'andrea', 'j', 'office', 'visitors'),\n",
       " ('canty', 'ashley', 'j', 'office', 'visitors'),\n",
       " ('carper', 'elizabeth', 'l', 'office', 'visitors'),\n",
       " ('carper', 'natalie', 'e', 'office', 'visitors'),\n",
       " ('carper', 'robert', 'j', 'office', 'visitors'),\n",
       " ('carter', 'asya', 'l', 'office', 'visitors'),\n",
       " ('chacko', 'elizabeth', '', 'office', 'visitors'),\n",
       " ('chacko', 'philip', '', 'office', 'visitors'),\n",
       " ('chacko', 'sarah', 'e', 'office', 'visitors'),\n",
       " ('chakalakonda', 'sharmila', '', 'office', 'visitors'),\n",
       " ('cordisco', 'christine', '', 'office', 'visitors'),\n",
       " ('cordisco', 'john', 'r', 'office', 'visitors'),\n",
       " ('coyne', 'griffin', 'm', 'office', 'visitors'),\n",
       " ('crafts', 'helen', 'l', 'office', 'visitors'),\n",
       " ('cunningham', 'davonte', 'p', 'office', 'visitors'),\n",
       " ('daher', 'khalid', 'a', 'office', 'visitors'),\n",
       " ('daher', 'mirall', 'k', 'office', 'visitors'),\n",
       " ('daher', 'rowan', 'l', 'office', 'visitors'),\n",
       " ('daher', 'sara', 'k', 'office', 'visitors'),\n",
       " ('davis', 'patricia', 'k', 'office', 'visitors'),\n",
       " ('dekock', 'leana', '', 'office', 'visitors'),\n",
       " ('dekock', 'leana', 'l', 'office', 'visitors'),\n",
       " ('doshi', 'harshad', 'a', 'office', 'visitors'),\n",
       " ('doshi', 'hiral', 'h', 'office', 'visitors'),\n",
       " ('doshi', 'ragini', 'h', 'office', 'visitors'),\n",
       " ('doshi', 'rahul', 'h', 'office', 'visitors'),\n",
       " ('ellefson', 'vicki', 'l', 'office', 'visitors'),\n",
       " ('emery', 'marcia', 'w', 'office', 'visitors'),\n",
       " ('emery', 'orian', 'd', 'office', 'visitors'),\n",
       " ('faro', 'omar', '', 'office', 'visitors'),\n",
       " ('farrell', 'simon', 'j', 'office', 'visitors'),\n",
       " ('ferguson', 'deborah', 'e', 'office', 'visitors'),\n",
       " ('ferguson', 'gary', 'a', 'office', 'visitors'),\n",
       " ('ferreira', 'josett', 'a', 'office', 'visitors'),\n",
       " ('fesler', 'lillian', 'h', 'office', 'visitors'),\n",
       " ('fesler', 'walter', 'c', 'office', 'visitors'),\n",
       " ('figueroa', 'joshua', 'e', 'office', 'visitors'),\n",
       " ('fogan', 'jaquoine', 'd', 'office', 'visitors'),\n",
       " ('fonville', 'zaria', 'm', 'office', 'visitors'),\n",
       " ('frazee', 'darlyne', 'l', 'office', 'visitors'),\n",
       " ('frazee', 'troy', 'a', 'office', 'visitors'),\n",
       " ('fulton', 'adreanna', 'c', 'office', 'visitors'),\n",
       " ('gaines', 'lucinda', 'd', 'office', 'visitors'),\n",
       " ('garlick', 'alan', 'c', 'office', 'visitors'),\n",
       " ('garlick', 'deborah', 'l', 'office', 'visitors'),\n",
       " ('geneva', 'conny', '', 'office', 'visitors'),\n",
       " ('geneva', 'lois', 'h', 'office', 'visitors'),\n",
       " ('gervacio', 'henzel', '', 'office', 'visitors'),\n",
       " ('gierrero', 'shannon', '', 'office', 'visitors'),\n",
       " ('goforth', 'rahscheem', 'j', 'office', 'visitors'),\n",
       " ('gomez', 'javier', 'g', 'office', 'visitors'),\n",
       " ('gonzales', 'patricia', 'l', 'office', 'visitors'),\n",
       " ('greathouse', 'deja', 'r', 'office', 'visitors'),\n",
       " ('greco', 'samantha', 'm', 'office', 'visitors'),\n",
       " ('green', 'james', 'e', 'office', 'visitors'),\n",
       " ('greene', 'brian', 'm', 'office', 'visitors'),\n",
       " ('greene', 'devon', 'm', 'office', 'visitors'),\n",
       " ('greene', 'eason', 'a', 'office', 'visitors'),\n",
       " ('greene', 'eliot', 'b', 'office', 'visitors'),\n",
       " ('grullon', 'steven', 'j', 'office', 'visitors'),\n",
       " ('guerrero', 'augustine', '', 'office', 'visitors'),\n",
       " ('harris', 'malika', 't', 'office', 'visitors'),\n",
       " ('hatten', 'camren', 'r', 'office', 'visitors'),\n",
       " ('hayden', 'joanna', 'c', 'office', 'visitors'),\n",
       " ('henderson', 'tyler', 's', 'office', 'visitors'),\n",
       " ('hennegan', 'amir', 'd', 'office', 'visitors'),\n",
       " ('herlihy', 'melissa', 'l', 'office', 'visitors'),\n",
       " ('howard', 'nathanael', 't', 'office', 'visitors'),\n",
       " ('hunt', 'martin', 'm', 'office', 'visitors'),\n",
       " ('huseby', 'allen', 'g', 'office', 'visitors'),\n",
       " ('huseby', 'bernice', 'm', 'office', 'visitors'),\n",
       " ('hussey', 'neena', 'm', 'office', 'visitors'),\n",
       " ('isaac', 'mia', 'r', 'office', 'visitors'),\n",
       " ('isaac', 'sarepta', '', 'office', 'visitors'),\n",
       " ('jackson', 'michele', 'c', 'office', 'visitors'),\n",
       " ('james', 'larry', 'j', 'office', 'visitors'),\n",
       " ('james', 'patricia', 'a', 'office', 'visitors'),\n",
       " ('janoski', 'amanda', 'f', 'office', 'visitors'),\n",
       " ('johns', 'hector', 'm', 'office', 'visitors'),\n",
       " ('johns', 'louise', 'd', 'office', 'visitors'),\n",
       " ('johnson', 'anthony', 'd', 'office', 'visitors'),\n",
       " ('johnson', 'herman', 'd', 'office', 'visitors'),\n",
       " ('johnson', 'shaniyah', 'm', 'office', 'visitors'),\n",
       " ('johnson', 'troy', 'e', 'office', 'visitors'),\n",
       " ('johnson', 'william', 'a', 'office', 'visitors'),\n",
       " ('jones', 'monai', 'c', 'office', 'visitors'),\n",
       " ('jones', 'rebbeca', 'm', 'office', 'visitors'),\n",
       " ('kemp', 'johnnie', 's', 'office', 'visitors'),\n",
       " ('klein', 'rene', 'c', 'office', 'visitors'),\n",
       " ('kofoed', 'adeline', 'n', 'office', 'visitors'),\n",
       " ('kresge', 'darren', 'm', 'office', 'visitors'),\n",
       " ('kroeger', 'angela', 'w', 'office', 'visitors'),\n",
       " ('lambrix', 'angela', 'r', 'office', 'visitors'),\n",
       " ('lampitelli', 'adrienne', 'j', 'office', 'visitors'),\n",
       " ('lanning', 'eva', 'l', 'office', 'visitors'),\n",
       " ('law', 'elaine', 'm', 'office', 'visitors'),\n",
       " ('lawson', 'benjamin', 'c', 'office', 'visitors'),\n",
       " ('lazi', 'raven', 'c', 'office', 'visitors'),\n",
       " ('lewis', 'kirsten', 'e', 'office', 'visitors'),\n",
       " ('li', 'baobao', '', 'office', 'visitors'),\n",
       " ('li', 'jing', '', 'office', 'visitors'),\n",
       " ('lipscomb', 'breonna', 'j', 'office', 'visitors'),\n",
       " ('lipsius', 'samuel', 'p', 'office', 'visitors'),\n",
       " ('long', 'donte', 'd', 'office', 'visitors'),\n",
       " ('lu', 'suling', '', 'office', 'visitors'),\n",
       " ('major', 'joan', 'r', 'office', 'visitors'),\n",
       " ('man', 'jeanette', 'h', 'office', 'visitors'),\n",
       " ('mandel', 'dawn', 'c', 'office', 'visitors'),\n",
       " ('marshall', 'jasmyn', 'r', 'office', 'visitors'),\n",
       " ('mazurpalazzola', 'claudia', 'a', 'office', 'visitors'),\n",
       " ('mccarthy', 'claire', 'm', 'office', 'visitors'),\n",
       " ('mccarty', 'zackary', 'c', 'office', 'visitors'),\n",
       " ('mcginnis', 'demario', 'a', 'office', 'visitors'),\n",
       " ('meh', 'beh', '', 'office', 'visitors'),\n",
       " ('mereau', 'shawn', 'j', 'office', 'visitors'),\n",
       " ('merrill', 'barbara', 'h', 'office', 'visitors'),\n",
       " ('miller', 'cosette', 'm', 'office', 'visitors'),\n",
       " ('mingo', 'kylia', 'a', 'office', 'visitors'),\n",
       " ('mitre', 'kevin', '', 'office', 'visitors'),\n",
       " ('moarefi', 'majid', 'r', 'office', 'visitors'),\n",
       " ('moore', 'carrie', 'm', 'office', 'visitors'),\n",
       " ('moore', 'mekhi', 'w', 'office', 'visitors'),\n",
       " ('moore', 'ruth', 'e', 'office', 'visitors'),\n",
       " ('morrow', 'christopher', 'w', 'office', 'visitors'),\n",
       " ('mowery', 'katherine', 'j', 'office', 'visitors'),\n",
       " ('moye', 'terri', 'm', 'office', 'visitors'),\n",
       " ('mullins', 'dora', 'm', 'office', 'visitors'),\n",
       " ('muse', 'shirley', 'r', 'office', 'visitors'),\n",
       " ('muse', 'windal', 'b', 'office', 'visitors'),\n",
       " ('mussyal', 'noel', 'p', 'office', 'visitors'),\n",
       " ('mussyal', 'wynema', 'm', 'office', 'visitors'),\n",
       " ('nines', 'lois', 'm', 'office', 'visitors'),\n",
       " ('norris', 'melanie', 'b', 'office', 'visitors'),\n",
       " ('olberding', 'kathleen', 'f', 'office', 'visitors'),\n",
       " ('oliveira', 'adriano', 'p', 'office', 'visitors'),\n",
       " ('owens', 'nikitta', 'd', 'office', 'visitors'),\n",
       " ('palazzola', 'louis', '', 'office', 'visitors'),\n",
       " ('palmerton', 'martin', 'l', 'office', 'visitors'),\n",
       " ('parsons', 'kemea', 'j', 'office', 'visitors'),\n",
       " ('patel', 'achal', 'j', 'office', 'visitors'),\n",
       " ('pendergrass', 'mary', 'f', 'office', 'visitors'),\n",
       " ('peralta', 'alexander', 'j', 'office', 'visitors'),\n",
       " ('pickering', 'robert', 'l', 'office', 'visitors'),\n",
       " ('pickering', 'sally', 'm', 'office', 'visitors'),\n",
       " ('pope', 'reba', 'h', 'office', 'visitors'),\n",
       " ('popejr', 'johnnie', 'n', 'office', 'visitors'),\n",
       " ('powell', 'adiah', 'm', 'office', 'visitors'),\n",
       " ('powers', 'jesse', 'p', 'office', 'visitors'),\n",
       " ('pugh', 'bryce', 'a', 'office', 'visitors'),\n",
       " ('pugh', 'jamal', 'r', 'office', 'visitors'),\n",
       " ('pugh', 'megan', 'a', 'office', 'visitors'),\n",
       " ('quilessiegel', 'samantha', 'e', 'office', 'visitors'),\n",
       " ('quinn', 'aubrey', 'e', 'office', 'visitors'),\n",
       " ('quinn', 'elyse', 'r', 'office', 'visitors'),\n",
       " ('quinn', 'melissa', 'k', 'office', 'visitors'),\n",
       " ('quinn', 'shawn', 'p', 'office', 'visitors'),\n",
       " ('ramos', 'justice', 'j', 'office', 'visitors'),\n",
       " ('ranch', 'denise', 's', 'office', 'visitors'),\n",
       " ('ranft', 'alexander', 'b', 'office', 'visitors'),\n",
       " ('ranft', 'lisa', 'k', 'office', 'visitors'),\n",
       " ('ranft', 'robert', 'a', 'office', 'visitors'),\n",
       " ('reh', 'noe', '', 'office', 'visitors'),\n",
       " ('riker', 'kevin', 'r', 'office', 'visitors'),\n",
       " ('rivera', 'jose', 'm', 'office', 'visitors'),\n",
       " ('robertsgrmela', 'julian', '', 'office', 'visitors'),\n",
       " ('robertson', 'wanda', 'l', 'office', 'visitors'),\n",
       " ('rogers', 'bonni', 'e', 'office', 'visitors'),\n",
       " ('rogers', 'gary', 'n', 'office', 'visitors'),\n",
       " ('rogers', 'lisa', 'r', 'office', 'visitors'),\n",
       " ('rogers', 'peter', 'a', 'office', 'visitors'),\n",
       " ('rollar', 'thomas', 'f', 'office', 'visitors'),\n",
       " ('romero', 'jordany', '', 'office', 'visitors'),\n",
       " ('ross', 'dina', 'b', 'office', 'visitors'),\n",
       " ('ross', 'noah', 'h', 'office', 'visitors'),\n",
       " ('ross', 'raven', 'i', 'office', 'visitors'),\n",
       " ('rostamizadeh', 'mahdi', '', 'office', 'visitors'),\n",
       " ('sakamoto', 'lynnette', 's', 'office', 'visitors'),\n",
       " ('sammons', 'margi', 'c', 'office', 'visitors'),\n",
       " ('santana', 'carlos', 'a', 'office', 'visitors'),\n",
       " ('sayles', 'taylor', 'd', 'office', 'visitors'),\n",
       " ('scott', 'carol', 'l', 'office', 'visitors'),\n",
       " ('scott', 'george', 'r', 'office', 'visitors'),\n",
       " ('sheehan', 'jenna', 'l', 'office', 'visitors'),\n",
       " ('sheehan', 'milton', 'j', 'office', 'visitors'),\n",
       " ('shivers', 'claire', 'd', 'office', 'visitors'),\n",
       " ('shivers', 'william', 'c', 'office', 'visitors'),\n",
       " ('sidow', 'boris', 'j', 'office', 'visitors'),\n",
       " ('simpson', 'bobby', 'r', 'office', 'visitors'),\n",
       " ('simpson', 'pamela', 'k', 'office', 'visitors'),\n",
       " ('smith', 'arianna', 'd', 'office', 'visitors'),\n",
       " ('smith', 'bruce', 's', 'office', 'visitors'),\n",
       " ('smith', 'jasmine', 'm', 'office', 'visitors'),\n",
       " ('smith', 'nancy', 'm', 'office', 'visitors'),\n",
       " ('sombhatta', 'eshaan', 'v', 'office', 'visitors'),\n",
       " ('sombhatta', 'venkata', 'j', 'office', 'visitors'),\n",
       " ('spencer', 'chelsey', 'l', 'office', 'visitors'),\n",
       " ('spencer', 'cortney', 'l', 'office', 'visitors'),\n",
       " ('stevens', 'taliha', 'm', 'office', 'visitors'),\n",
       " ('stewart', 'crystal', 'a', 'office', 'visitors'),\n",
       " ('stickrod', 'madonna', 's', 'office', 'visitors'),\n",
       " ('stickrod', 'morene', 'c', 'office', 'visitors'),\n",
       " ('stickrod', 'thomas', 'a', 'office', 'visitors'),\n",
       " ('stickrod', 'timothy', 'a', 'office', 'visitors'),\n",
       " ('stieglitz', 'ana', 's', 'office', 'visitors'),\n",
       " ('stubblefield', 'maudie', 'a', 'office', 'visitors'),\n",
       " ('swaggard', 'beate', 'd', 'office', 'visitors'),\n",
       " ('swain', 'karlisha', 'l', 'office', 'visitors'),\n",
       " ('tadusz', 'mary', 'e', 'office', 'visitors'),\n",
       " ('tieuel', 'jalani', 'a', 'office', 'visitors'),\n",
       " ('tieuel', 'jon', 'k', 'office', 'visitors'),\n",
       " ('trim', 'mary', 'e', 'office', 'visitors'),\n",
       " ('vazquez', 'nelson', 'j', 'office', 'visitors'),\n",
       " ('vidal', 'lisa', 'h', 'office', 'visitors'),\n",
       " ('walden', 'dana', 's', 'office', 'visitors'),\n",
       " ('wallen', 'elijah', 'e', 'office', 'visitors'),\n",
       " ('white', 'rayshawna', 'r', 'office', 'visitors'),\n",
       " ('wiley', 'anthony', 'j', 'office', 'visitors'),\n",
       " ('wilhelm', 'timothy', '', 'office', 'visitors'),\n",
       " ('williams', 'phyllis', 'j', 'office', 'visitors'),\n",
       " ('willis', 'benjamin', 'f', 'office', 'visitors'),\n",
       " ('wilson', 'conner', 'w', 'office', 'visitors'),\n",
       " ('wilson', 'ryan', 'm', 'office', 'visitors'),\n",
       " ('woods', 'mikaela', 'b', 'office', 'visitors'),\n",
       " ('wright', 'beverly', 'i', 'office', 'visitors'),\n",
       " ('wright', 'donald', 'j', 'office', 'visitors'),\n",
       " ('wroge', 'carol', 'a', 'office', 'visitors'),\n",
       " ('yamamoto', 'karen', 'f', 'office', 'visitors'),\n",
       " ('yamamoto', 'stanley', 't', 'office', 'visitors'),\n",
       " ('zhang', 'goudong', '', 'office', 'visitors'),\n",
       " ('zhang', 'haoxuan', 'a', 'office', 'visitors'),\n",
       " ('zimmerman', 'helena', 'h', 'office', 'visitors'),\n",
       " ('santiago', 'marilsa', '', 'raymond', 'don'),\n",
       " ('schoenborn', 'veronica', 'f', 'frechette', 'bill'),\n",
       " ('trew', 'heather', '', 'murphy', 'jill'),\n",
       " ('vagnini', 'danielle', 'c', 'warner', 'sharon'),\n",
       " ('williams', 'omar', 'a', 'frechette', 'bill'),\n",
       " ('meh', 'beh', 'n', 'office', 'visitors'),\n",
       " ('hryckowian', 'mykola', 'n', 'carpenter', 'mike'),\n",
       " ('kozachenko', 'leonid', 'n', 'carpenter', 'mike'),\n",
       " ('pinchuk', 'anatolii', 'n', 'carpenter', 'mike'),\n",
       " ('syroyid', 'oksana', 'n', 'carpenter', 'mike'),\n",
       " ('vashchenko', 'kostiantyn', 'n', 'carpenter', 'mike'),\n",
       " ('yermilov', 'sergiy', 'n', 'carpenter', 'mike'),\n",
       " ('garlick', 'alan', 'n', 'office', 'visitors'),\n",
       " ('ranck', 'denise', 'n', 'office', 'visitors'),\n",
       " ('dekock', 'david', 'n', 'office', 'visitors'),\n",
       " ('chumak', 'viktor', 'n', 'carpenter', 'mike'),\n",
       " ('eisner', 'steven', 'j', 'murphy', 'jonathan'),\n",
       " ('hopko', 'hanna', 'n', 'carpenter', 'mike'),\n",
       " ('hryckowian', 'mykola', 'n', 'carpenter', 'mike'),\n",
       " ('klympushtsintsadze', 'ivanna', 'n', 'carpenter', 'mike'),\n",
       " ('pinchuk', 'anatolii', 'n', 'carpenter', 'mike'),\n",
       " ('yermilov', 'sergiy', 'n', 'carpenter', 'mike'),\n",
       " ('pope', 'reba', 'n', 'office', 'visitors'),\n",
       " ('bakehorn', 'jeffrey', 'n', 'office', 'visitors'),\n",
       " ('kemp', 'maudie', 'n', 'office', 'visitors'),\n",
       " ('abbess', 'jaime', 'l', 'office', 'visitors'),\n",
       " ('abdelnour', 'cheri', 'l', 'office', 'visitors'),\n",
       " ('acera', 'elmer', 'l', 'office', 'visitors'),\n",
       " ('adamstillery', 'jo', 'e', 'office', 'visitors'),\n",
       " ('aliagakelly', 'ambrose', 'w', 'office', 'visitors'),\n",
       " ('aliagakelly', 'anabella', 's', 'office', 'visitors'),\n",
       " ('aliagakelly', 'charles', 'd', 'office', 'visitors'),\n",
       " ('aliagakelly', 'mary', 'm', 'office', 'visitors'),\n",
       " ('arries', 'scott', 'm', 'office', 'visitors'),\n",
       " ('autele', 'ellen', 'k', 'office', 'visitors'),\n",
       " ('autele', 'tabitha', 't', 'office', 'visitors'),\n",
       " ('autele', 'wayne', 'e', 'office', 'visitors'),\n",
       " ('auteleacera', 'brayden', 'w', 'office', 'visitors'),\n",
       " ('auteleacera', 'tobey', 'e', 'office', 'visitors'),\n",
       " ('baldock', 'christopher', 'j', 'office', 'visitors'),\n",
       " ('barros', 'angela', 'j', 'office', 'visitors'),\n",
       " ('barry', 'angela', 'm', 'office', 'visitors'),\n",
       " ('bauer', 'greg', 'l', 'office', 'visitors'),\n",
       " ('bauer', 'susan', 'j', 'office', 'visitors'),\n",
       " ('bauman', 'emily', 'r', 'office', 'visitors'),\n",
       " ('bauman', 'matthew', 'r', 'office', 'visitors'),\n",
       " ('baxter', 'rachael', 'l', 'office', 'visitors'),\n",
       " ('bayless', 'tequana', 'l', 'office', 'visitors'),\n",
       " ('berg', 'susan', 'j', 'office', 'visitors'),\n",
       " ('blow', 'frederic', 'c', 'office', 'visitors'),\n",
       " ('bonthuis', 'jeffrey', 'd', 'office', 'visitors'),\n",
       " ('bonthuis', 'susan', 'e', 'office', 'visitors'),\n",
       " ('booth', 'milton', 's', 'office', 'visitors'),\n",
       " ('brandn', 'nathaniel', 'g', 'office', 'visitors'),\n",
       " ('brandon', 'mitzi', 'v', 'office', 'visitors'),\n",
       " ('brandon', 'tyler', 'e', 'office', 'visitors'),\n",
       " ('breiner', 'allison', 'c', 'office', 'visitors'),\n",
       " ('breiner', 'eugene', 'l', 'office', 'visitors'),\n",
       " ('breiner', 'michael', 'l', 'office', 'visitors'),\n",
       " ('brewer', 'christopher', 'a', 'office', 'visitors'),\n",
       " ('briley', 'richard', 'j', 'office', 'visitors'),\n",
       " ('brookes', 'rachel', 's', 'office', 'visitors'),\n",
       " ('brown', 'roy', 'a', 'office', 'visitors'),\n",
       " ('busch', 'michael', 'c', 'office', 'visitors'),\n",
       " ('bushman', 'constance', 'r', 'office', 'visitors'),\n",
       " ('caldwellsr', 'jerome', 'a', 'office', 'visitors'),\n",
       " ('caldwellsr', 'victoria', 'e', 'office', 'visitors'),\n",
       " ('cardenas', 'eduardo', 'l', 'office', 'visitors'),\n",
       " ('cardenas', 'vanessa', '', 'office', 'visitors'),\n",
       " ('carelli', 'seth', 'd', 'office', 'visitors'),\n",
       " ('carrier', 'jonathan', 'd', 'office', 'visitors'),\n",
       " ('chambers', 'octavia', 'l', 'office', 'visitors'),\n",
       " ('charron', 'noreen', 'd', 'office', 'visitors'),\n",
       " ('coleman', 'ryan', 's', 'office', 'visitors'),\n",
       " ('collinsbriley', 'linda', 'l', 'office', 'visitors'),\n",
       " ('cook', 'joshua', 'r', 'office', 'visitors'),\n",
       " ('cooper', 'karen', 'g', 'office', 'visitors'),\n",
       " ('crist', 'betty', 'c', 'office', 'visitors'),\n",
       " ('critchlow', 'bode', 'e', 'office', 'visitors'),\n",
       " ('critchlow', 'ivy', 'e', 'office', 'visitors'),\n",
       " ('critchlow', 'tania', 'a', 'office', 'visitors'),\n",
       " ('czaia', 'karen', 'j', 'office', 'visitors'),\n",
       " ('czaia', 'roger', 'o', 'office', 'visitors'),\n",
       " ('davis', 'marcellus', 'd', 'office', 'visitors'),\n",
       " ('davis', 'noor', 'm', 'office', 'visitors'),\n",
       " ('davis', 'samira', 'x', 'office', 'visitors'),\n",
       " ('davis', 'sofia', 'f', 'office', 'visitors'),\n",
       " ('dennehy', 'elinor', '', 'office', 'visitors'),\n",
       " ('dooley', 'benjamin', 'c', 'office', 'visitors'),\n",
       " ('dooley', 'brayden', 'c', 'office', 'visitors'),\n",
       " ('dooley', 'erin', 'c', 'office', 'visitors'),\n",
       " ('dooley', 'madelyn', 'r', 'office', 'visitors'),\n",
       " ('dooley', 'makinley', 'r', 'office', 'visitors'),\n",
       " ('duff', 'paul', 'h', 'office', 'visitors'),\n",
       " ('dyer', 'marc', 'd', 'office', 'visitors'),\n",
       " ('edwards', 'mary', 'l', 'office', 'visitors'),\n",
       " ('fellores', 'mary', 'a', 'office', 'visitors'),\n",
       " ('ferris', 'stephen', 'j', 'office', 'visitors'),\n",
       " ('fieldsescobedo', 'gabrielle', 'l', 'office', 'visitors'),\n",
       " ('findlay', 'sharon', '', 'office', 'visitors'),\n",
       " ('fisher', 'william', 'l', 'office', 'visitors'),\n",
       " ('ford', 'linda', '', 'office', 'visitors'),\n",
       " ('franzmann', 'sarah', 'g', 'office', 'visitors'),\n",
       " ('froemming', 'brenda', 'j', 'office', 'visitors'),\n",
       " ('froemming', 'david', 'l', 'office', 'visitors'),\n",
       " ('funkhouser', 'irene', '', 'office', 'visitors'),\n",
       " ('funkhouser', 'thomas', 'm', 'office', 'visitors'),\n",
       " ('galyon', 'jeffry', 'l', 'office', 'visitors'),\n",
       " ('galyon', 'lynn', 'm', 'office', 'visitors'),\n",
       " ('gerspacher', 'jackie', 'm', 'office', 'visitors'),\n",
       " ('gioia', 'janet', '', 'office', 'visitors'),\n",
       " ('gordon', 'brianna', 'c', 'office', 'visitors'),\n",
       " ('gordon', 'marguerite', '', 'office', 'visitors'),\n",
       " ('gordonsr', 'fred', 'e', 'office', 'visitors'),\n",
       " ('graham', 'stephen', 'e', 'office', 'visitors'),\n",
       " ('graham', 'theresa', 'a', 'office', 'visitors'),\n",
       " ('green', 'alissa', 'l', 'office', 'visitors'),\n",
       " ('green', 'ryan', 'j', 'office', 'visitors'),\n",
       " ('harris', 'lorenza', 'l', 'office', 'visitors'),\n",
       " ('hartleyarries', 'robin', 'm', 'office', 'visitors'),\n",
       " ('hawks', 'truman', 'e', 'office', 'visitors'),\n",
       " ('hayward', 'ann', 'e', 'office', 'visitors'),\n",
       " ('herrell', 'holden', 'w', 'office', 'visitors'),\n",
       " ('hibbler', 'marion', 'n', 'office', 'visitors'),\n",
       " ('hill', 'gail', 'l', 'office', 'visitors'),\n",
       " ('hill', 'maurice', 'l', 'office', 'visitors'),\n",
       " ('himes', 'harold', 't', 'office', 'visitors'),\n",
       " ('himes', 'joyce', 'e', 'office', 'visitors'),\n",
       " ('jennings', 'howard', 'r', 'office', 'visitors'),\n",
       " ('jennings', 'linda', 's', 'office', 'visitors'),\n",
       " ('jocketty', 'joseph', '', 'office', 'visitors'),\n",
       " ('jocketty', 'kristi', 'a', 'office', 'visitors'),\n",
       " ('johnson', 'amelia', '', 'office', 'visitors'),\n",
       " ('kaeble', 'danielle', 'm', 'office', 'visitors'),\n",
       " ('kaplan', 'pazjuanita', 'a', 'office', 'visitors'),\n",
       " ('kaplan', 'sidney', 'l', 'office', 'visitors'),\n",
       " ('kihnel', 'lindsay', 'm', 'office', 'visitors'),\n",
       " ('kim', 'eunjung', '', 'office', 'visitors'),\n",
       " ('kim', 'hyojung', '', 'office', 'visitors'),\n",
       " ('kim', 'ikkyu', '', 'office', 'visitors'),\n",
       " ('kim', 'kwangwon', '', 'office', 'visitors'),\n",
       " ('kim', 'misook', '', 'office', 'visitors'),\n",
       " ('kim', 'taeyung', '', 'office', 'visitors'),\n",
       " ('king', 'lily', 'g', 'office', 'visitors'),\n",
       " ('king', 'matthew', 'g', 'office', 'visitors'),\n",
       " ('kummel', 'vera', 'e', 'office', 'visitors'),\n",
       " ('kuzanek', 'emily', 'm', 'office', 'visitors'),\n",
       " ('kuzanek', 'patricia', 'b', 'office', 'visitors'),\n",
       " ('kuzanek', 'timothy', 's', 'office', 'visitors'),\n",
       " ('lentz', 'jane', 'a', 'office', 'visitors'),\n",
       " ('leone', 'alexander', 't', 'office', 'visitors'),\n",
       " ('leone', 'daniel', 'j', 'office', 'visitors'),\n",
       " ('leone', 'danielle', 'n', 'office', 'visitors'),\n",
       " ('leone', 'zachary', 'j', 'office', 'visitors'),\n",
       " ('lewis', 'dwight', 'l', 'office', 'visitors'),\n",
       " ('manfredonia', 'mario', 'p', 'office', 'visitors'),\n",
       " ('manfredonia', 'penny', 's', 'office', 'visitors'),\n",
       " ('marceau', 'susan', 'k', 'office', 'visitors'),\n",
       " ('marin', 'john', 'j', 'office', 'visitors'),\n",
       " ('marin', 'maria', 'h', 'office', 'visitors'),\n",
       " ('marschke', 'benjamin', 'a', 'office', 'visitors'),\n",
       " ('marschke', 'josepha', 'f', 'office', 'visitors'),\n",
       " ('marschke', 'marianne', '', 'office', 'visitors'),\n",
       " ('mcauleyolivas', 'abigail', 'm', 'office', 'visitors'),\n",
       " ('mcclennen', 'kaitlyn', 's', 'office', 'visitors'),\n",
       " ('mcclennen', 'kellyann', 's', 'office', 'visitors'),\n",
       " ('mcclennen', 'tyler', 'r', 'office', 'visitors'),\n",
       " ('mcdonald', 'anthony', 'c', 'office', 'visitors'),\n",
       " ('mcmahon', 'jamie', 'l', 'office', 'visitors'),\n",
       " ('metoyer', 'kennedy', 'l', 'office', 'visitors'),\n",
       " ('metoyer', 'kiel', 'b', 'office', 'visitors'),\n",
       " ('metoyer', 'lakesha', 't', 'office', 'visitors'),\n",
       " ('minot', 'john', 't', 'office', 'visitors'),\n",
       " ('minot', 'sarah', 's', 'office', 'visitors'),\n",
       " ('minot', 'sharon', 's', 'office', 'visitors'),\n",
       " ('mondragon', 'katlyn', 'b', 'office', 'visitors'),\n",
       " ('morton', 'adrian', '', 'office', 'visitors'),\n",
       " ('moss', 'cherita', 'c', 'office', 'visitors'),\n",
       " ('moss', 'keith', 'a', 'office', 'visitors'),\n",
       " ('mulkey', 'carlton', 'b', 'office', 'visitors'),\n",
       " ('mulkey', 'nancy', 't', 'office', 'visitors'),\n",
       " ('needham', 'clarissa', 'd', 'office', 'visitors'),\n",
       " ('needham', 'garfield', 't', 'office', 'visitors'),\n",
       " ('needham', 'troy', 'j', 'office', 'visitors'),\n",
       " ('neske', 'sandra', 'v', 'office', 'visitors'),\n",
       " ('okieffe', 'amelia', 'j', 'office', 'visitors'),\n",
       " ('okieffe', 'john', 'b', 'office', 'visitors'),\n",
       " ('okieffe', 'margaret', 'f', 'office', 'visitors'),\n",
       " ('okieffe', 'rosemary', '', 'office', 'visitors'),\n",
       " ('olivas', 'edmund', 't', 'office', 'visitors'),\n",
       " ('olivas', 'evelyn', 'e', 'office', 'visitors'),\n",
       " ('olivas', 'melissa', 'c', 'office', 'visitors'),\n",
       " ('olivas', 'rainna', 'r', 'office', 'visitors'),\n",
       " ('olson', 'daniel', 'g', 'office', 'visitors'),\n",
       " ('olson', 'sally', 'a', 'office', 'visitors'),\n",
       " ('passante', 'debra', 'a', 'office', 'visitors'),\n",
       " ('pearson', 'jennifer', 'e', 'office', 'visitors'),\n",
       " ('pearsonjr', 'glenn', 'j', 'office', 'visitors'),\n",
       " ('pietrelli', 'megan', 'l', 'office', 'visitors'),\n",
       " ('pietrelli', 'michael', 'k', 'office', 'visitors'),\n",
       " ('potter', 'don', 'h', 'office', 'visitors'),\n",
       " ('potter', 'patricia', 'j', 'office', 'visitors'),\n",
       " ('puhl', 'cheryl', 'l', 'office', 'visitors'),\n",
       " ('qureshi', 'alisha', 'h', 'office', 'visitors'),\n",
       " ('qureshi', 'ayesha', 'h', 'office', 'visitors'),\n",
       " ('qureshi', 'habiba', 'h', 'office', 'visitors'),\n",
       " ('qureshi', 'muhammad', 'h', 'office', 'visitors'),\n",
       " ('reed', 'anthony', 'm', 'office', 'visitors'),\n",
       " ('reed', 'jada', 'm', 'office', 'visitors'),\n",
       " ('reed', 'jeriene', 'k', 'office', 'visitors'),\n",
       " ('rice', 'barbara', 's', 'office', 'visitors'),\n",
       " ('rice', 'leonard', 'e', 'office', 'visitors'),\n",
       " ('rice', 'phillip', 'a', 'office', 'visitors'),\n",
       " ('rice', 'rachel', 'j', 'office', 'visitors'),\n",
       " ('rice', 'rebecca', 's', 'office', 'visitors'),\n",
       " ('richards', 'lorna', 'm', 'office', 'visitors'),\n",
       " ('richards', 'raymond', 'j', 'office', 'visitors'),\n",
       " ('riera', 'stephannie', 'n', 'office', 'visitors'),\n",
       " ('roan', 'christine', 't', 'office', 'visitors'),\n",
       " ('robbins', 'elysa', 'n', 'office', 'visitors'),\n",
       " ('robbins', 'sophia', 'g', 'office', 'visitors'),\n",
       " ('robinson', 'carrie', 'm', 'office', 'visitors'),\n",
       " ('robinson', 'ellen', 'm', 'office', 'visitors'),\n",
       " ('robinson', 'hans', 'p', 'office', 'visitors'),\n",
       " ('robinson', 'isaac', 'a', 'office', 'visitors'),\n",
       " ('robinson', 'lee', '', 'office', 'visitors'),\n",
       " ('robinson', 'lisa', 'm', 'office', 'visitors'),\n",
       " ('robinson', 'lucas', 's', 'office', 'visitors'),\n",
       " ('robinson', 'reily', 'j', 'office', 'visitors'),\n",
       " ('scully', 'mary', 'm', 'office', 'visitors'),\n",
       " ('shafer', 'karol', 'l', 'office', 'visitors'),\n",
       " ('shafer', 'mark', 'h', 'office', 'visitors'),\n",
       " ('smith', 'gabrielle', 'y', 'office', 'visitors'),\n",
       " ('smith', 'ian', 't', 'office', 'visitors'),\n",
       " ('smith', 'orson', 'm', 'office', 'visitors'),\n",
       " ('smith', 'tiffany', 'r', 'office', 'visitors'),\n",
       " ('snodgrass', 'joshua', 'w', 'office', 'visitors'),\n",
       " ('snodgrass', 'joslyn', 'n', 'office', 'visitors'),\n",
       " ('snodgrass', 'rebecca', 'j', 'office', 'visitors'),\n",
       " ('snodgrass', 'tallas', 'c', 'office', 'visitors'),\n",
       " ('starbuck', 'heidi', 'n', 'office', 'visitors'),\n",
       " ('starbuck', 'sho', 'j', 'office', 'visitors'),\n",
       " ('starbuck', 'stacy', 'r', 'office', 'visitors'),\n",
       " ('stelter', 'dolores', 'a', 'office', 'visitors'),\n",
       " ('stelter', 'roger', 'w', 'office', 'visitors'),\n",
       " ('stewart', 'ezranique', 'j', 'office', 'visitors'),\n",
       " ('stiney', 'rena', 't', 'office', 'visitors'),\n",
       " ('stovall', 'brielle', 'd', 'office', 'visitors'),\n",
       " ('sundar', 'bethany', 'f', 'office', 'visitors'),\n",
       " ('sundar', 'sunil', 'n', 'office', 'visitors'),\n",
       " ('taliaferro', 'bartholomew', '', 'office', 'visitors'),\n",
       " ('taliaferro', 'louise', 'r', 'office', 'visitors'),\n",
       " ...]"
      ]
     },
     "execution_count": 20,
     "metadata": {},
     "output_type": "execute_result"
    }
   ],
   "source": [
    "filtered.collect()"
   ]
  },
  {
   "cell_type": "code",
   "execution_count": 21,
   "metadata": {},
   "outputs": [
    {
     "data": {
      "text/plain": [
       "911249"
      ]
     },
     "execution_count": 21,
     "metadata": {},
     "output_type": "execute_result"
    }
   ],
   "source": [
    "filtered.count()"
   ]
  },
  {
   "cell_type": "code",
   "execution_count": 22,
   "metadata": {},
   "outputs": [],
   "source": [
    "filtered = filtered.filter(lambda x: x[0] != \"\")"
   ]
  },
  {
   "cell_type": "code",
   "execution_count": 23,
   "metadata": {},
   "outputs": [
    {
     "data": {
      "text/plain": [
       "911249"
      ]
     },
     "execution_count": 23,
     "metadata": {},
     "output_type": "execute_result"
    }
   ],
   "source": [
    "filtered.count()"
   ]
  },
  {
   "cell_type": "markdown",
   "metadata": {},
   "source": [
    "# The number of records dropped"
   ]
  },
  {
   "cell_type": "code",
   "execution_count": 24,
   "metadata": {},
   "outputs": [],
   "source": [
    "dropped = tokens2.count() - filtered.count()"
   ]
  },
  {
   "cell_type": "code",
   "execution_count": 25,
   "metadata": {},
   "outputs": [
    {
     "data": {
      "text/plain": [
       "59255"
      ]
     },
     "execution_count": 25,
     "metadata": {},
     "output_type": "execute_result"
    }
   ],
   "source": [
    "dropped"
   ]
  },
  {
   "cell_type": "markdown",
   "metadata": {},
   "source": [
    "# The 10 most frequent visitors\n",
    "(NAMELAST, NAMEFIRST, NAMEMID)\n",
    "to the White House. \n",
    "\n",
    "(visitor) (frequency)"
   ]
  },
  {
   "cell_type": "code",
   "execution_count": 26,
   "metadata": {},
   "outputs": [],
   "source": [
    "visitors = filtered.map(lambda x: ((x[0], x[1], x[2]), 1))"
   ]
  },
  {
   "cell_type": "code",
   "execution_count": 27,
   "metadata": {},
   "outputs": [],
   "source": [
    "visitors = visitors.reduceByKey(lambda x,y: x+y)"
   ]
  },
  {
   "cell_type": "code",
   "execution_count": 28,
   "metadata": {},
   "outputs": [],
   "source": [
    "#visitors.take(5)"
   ]
  },
  {
   "cell_type": "code",
   "execution_count": 29,
   "metadata": {},
   "outputs": [],
   "source": [
    "top_10_visitors = visitors.takeOrdered(10, key = lambda x: -x[1])"
   ]
  },
  {
   "cell_type": "code",
   "execution_count": 30,
   "metadata": {},
   "outputs": [
    {
     "data": {
      "text/plain": [
       "[(('thomas', 'benjamin', 'l'), 185),\n",
       " (('berner', 'katherine', 'k'), 176),\n",
       " (('haas', 'jordan', 'm'), 152),\n",
       " (('grant', 'patrick', 'c'), 151),\n",
       " (('kidwell', 'lauren', 'k'), 145),\n",
       " (('haro', 'steven', 'm'), 140),\n",
       " (('garza', 'steven', 'a'), 127),\n",
       " (('strait', 'elan', ''), 107),\n",
       " (('lew', 'shoshana', 'm'), 102),\n",
       " (('zeitlin', 'daniel', 'l'), 98)]"
      ]
     },
     "execution_count": 30,
     "metadata": {},
     "output_type": "execute_result"
    }
   ],
   "source": [
    "top_10_visitors"
   ]
  },
  {
   "cell_type": "markdown",
   "metadata": {},
   "source": [
    "# The 10 most frequently visited people\n",
    "(visitee_namelast, visitee_namefirst)\n",
    "in the White House.\n",
    "\n",
    "(visitee) (frequency)"
   ]
  },
  {
   "cell_type": "code",
   "execution_count": 31,
   "metadata": {},
   "outputs": [],
   "source": [
    "visitee = filtered.map(lambda x: ((x[3], x[4]), 1))"
   ]
  },
  {
   "cell_type": "code",
   "execution_count": 32,
   "metadata": {},
   "outputs": [
    {
     "data": {
      "text/plain": [
       "[(('pelofsky', 'eric'), 1),\n",
       " (('baskerville', 'steven'), 1),\n",
       " (('baskerville', 'steven'), 1),\n",
       " (('baskerville', 'steven'), 1),\n",
       " (('baskerville', 'steven'), 1)]"
      ]
     },
     "execution_count": 32,
     "metadata": {},
     "output_type": "execute_result"
    }
   ],
   "source": [
    "visitee.take(5)"
   ]
  },
  {
   "cell_type": "code",
   "execution_count": 33,
   "metadata": {},
   "outputs": [],
   "source": [
    "visitee = visitee.reduceByKey(lambda x,y: x+y)"
   ]
  },
  {
   "cell_type": "code",
   "execution_count": 34,
   "metadata": {},
   "outputs": [],
   "source": [
    "#visitee.take(5)"
   ]
  },
  {
   "cell_type": "code",
   "execution_count": 35,
   "metadata": {},
   "outputs": [],
   "source": [
    "top_10_visitee = visitee.takeOrdered(10, key = lambda x: -x[1])"
   ]
  },
  {
   "cell_type": "code",
   "execution_count": 36,
   "metadata": {},
   "outputs": [
    {
     "data": {
      "text/plain": [
       "[(('office', 'visitors'), 430881),\n",
       " (('waves', 'visitorsoffice'), 44129),\n",
       " (('bryant', 'ruth'), 13970),\n",
       " (('oneil', 'olivia'), 13155),\n",
       " (('thompson', 'jared'), 11618),\n",
       " (('/', 'potus'), 10900),\n",
       " (('burton', 'collin'), 9672),\n",
       " (('megan', 'matthew'), 7944),\n",
       " (('mayerson', 'asher'), 6886),\n",
       " (('dessources', 'kalisha'), 5289)]"
      ]
     },
     "execution_count": 36,
     "metadata": {},
     "output_type": "execute_result"
    }
   ],
   "source": [
    "top_10_visitee"
   ]
  },
  {
   "cell_type": "markdown",
   "metadata": {},
   "source": [
    "# The 10 most frequent visitor-visitee combinations.\n",
    "\n",
    "(visitor-visitee) (frequency)"
   ]
  },
  {
   "cell_type": "code",
   "execution_count": 54,
   "metadata": {},
   "outputs": [],
   "source": [
    "combo = filtered.map(lambda x: ((x[0], x[1], x[3], x[4]), 1))"
   ]
  },
  {
   "cell_type": "code",
   "execution_count": 55,
   "metadata": {},
   "outputs": [
    {
     "data": {
      "text/plain": [
       "[(('tajouribessassi', 'hanene', 'pelofsky', 'eric'), 1),\n",
       " (('bageant', 'laura', 'baskerville', 'steven'), 1),\n",
       " (('broemson', 'earl', 'baskerville', 'steven'), 1),\n",
       " (('jackling jr', 'william', 'baskerville', 'steven'), 1),\n",
       " (('mccrary', 'richard', 'baskerville', 'steven'), 1)]"
      ]
     },
     "execution_count": 55,
     "metadata": {},
     "output_type": "execute_result"
    }
   ],
   "source": [
    "combo.take(5)"
   ]
  },
  {
   "cell_type": "code",
   "execution_count": 39,
   "metadata": {},
   "outputs": [],
   "source": [
    "combo = combo.reduceByKey(lambda x,y: x+y)"
   ]
  },
  {
   "cell_type": "code",
   "execution_count": 40,
   "metadata": {},
   "outputs": [],
   "source": [
    "#combo.take(5)"
   ]
  },
  {
   "cell_type": "code",
   "execution_count": 50,
   "metadata": {},
   "outputs": [],
   "source": [
    "top_10_combo = combo.takeOrdered(10, key = lambda x: -x[1])"
   ]
  },
  {
   "cell_type": "code",
   "execution_count": 51,
   "metadata": {},
   "outputs": [
    {
     "data": {
      "text/plain": [
       "[(('kidwell', 'lauren', 'yudelson', 'alex'), 103),\n",
       " (('haas', 'jordan', 'yudelson', 'alex'), 90),\n",
       " (('grant', 'patrick', 'yudelson', 'alex'), 89),\n",
       " (('thomas', 'benjamin', 'yudelson', 'alex'), 89),\n",
       " (('cohen', 'mandy', 'lambrew', 'jeanne'), 84),\n",
       " (('haro', 'steven', 'yudelson', 'alex'), 84),\n",
       " (('berner', 'katherine', 'yudelson', 'alex'), 82),\n",
       " (('roche', 'shannon', 'yudelson', 'alex'), 70),\n",
       " (('urizar', 'jennifer', 'johnson', 'katie'), 68),\n",
       " (('martin', 'kathryn', 'lambrew', 'jeanne'), 61)]"
      ]
     },
     "execution_count": 51,
     "metadata": {},
     "output_type": "execute_result"
    }
   ],
   "source": [
    "top_10_combo"
   ]
  },
  {
   "cell_type": "code",
   "execution_count": 43,
   "metadata": {},
   "outputs": [],
   "source": [
    "tk = combo.takeOrdered(10)"
   ]
  },
  {
   "cell_type": "code",
   "execution_count": 45,
   "metadata": {},
   "outputs": [
    {
     "data": {
      "text/plain": [
       "[(('aab', 'aaron', 'office', 'visitors'), 1),\n",
       " (('aab', 'sarah', 'office', 'visitors'), 1),\n",
       " (('aab', 'valerie', 'office', 'visitors'), 1),\n",
       " (('aabye', 'mary', 'office', 'visitors'), 1),\n",
       " (('aachal', 'suresh', 'office', 'visitors'), 1),\n",
       " (('aadnesen', 'christopher', 'office', 'visitors'), 1),\n",
       " (('aafreen', 'jahanzaib', 'office', 'visitors'), 1),\n",
       " (('aagaard', 'brian', 'pincus', 'erica'), 1),\n",
       " (('aagaard', 'lasse', 'zarek', 'cori'), 1),\n",
       " (('aagaard', 'nina', 'dworakfisher', 'keenan'), 1)]"
      ]
     },
     "execution_count": 45,
     "metadata": {},
     "output_type": "execute_result"
    }
   ],
   "source": [
    "tk"
   ]
  }
 ],
 "metadata": {
  "kernelspec": {
   "display_name": "Python 3",
   "language": "python",
   "name": "python3"
  },
  "language_info": {
   "codemirror_mode": {
    "name": "ipython",
    "version": 3
   },
   "file_extension": ".py",
   "mimetype": "text/x-python",
   "name": "python",
   "nbconvert_exporter": "python",
   "pygments_lexer": "ipython3",
   "version": "3.7.3"
  }
 },
 "nbformat": 4,
 "nbformat_minor": 2
}
