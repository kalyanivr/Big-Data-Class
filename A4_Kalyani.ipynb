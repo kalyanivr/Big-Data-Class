{
 "cells": [
  {
   "cell_type": "code",
   "execution_count": 1,
   "metadata": {},
   "outputs": [],
   "source": [
    "from __future__ import print_function\n",
    "import sys\n",
    "from operator import add\n",
    "from pyspark.sql import SparkSession\n",
    "from pyspark.sql import functions as f\n",
    "from pyspark.sql.functions import *\n",
    "from pyspark.sql.types import StringType\n",
    "from pyspark.sql.functions import udf"
   ]
  },
  {
   "cell_type": "code",
   "execution_count": 2,
   "metadata": {},
   "outputs": [],
   "source": [
    "spark = SparkSession\\\n",
    ".builder\\\n",
    ".appName(\"Assignment_4\")\\\n",
    ".getOrCreate()"
   ]
  },
  {
   "cell_type": "code",
   "execution_count": 3,
   "metadata": {},
   "outputs": [],
   "source": [
    "df = spark\\\n",
    ".read\\\n",
    ".format(\"csv\")\\\n",
    ".option(\"header\", \"true\")\\\n",
    ".option(\"inferSchema\", \"true\")\\\n",
    ".load(\"/Users/kalyani/Documents/Study/Big_Data/a3.csv\")"
   ]
  },
  {
   "cell_type": "markdown",
   "metadata": {},
   "source": [
    "# Remove extra columns which are not needed"
   ]
  },
  {
   "cell_type": "code",
   "execution_count": 4,
   "metadata": {},
   "outputs": [],
   "source": [
    "cols_to_drop = ['UIN','BDGNBR', 'ACCESS_TYPE', 'TOA', 'TOD', 'POA', 'POD', 'APPT_MADE_DATE', 'APPT_START_DATE', \\\n",
    "               'APPT_END_DATE', 'APPT_CANCEL_DATE', 'Total_People', 'LAST_UPDATEDBY', 'POST', 'LASTENTRYDATE', \\\n",
    "               'TERMINAL_SUFFIX', 'MEETING_LOC', 'MEETING_ROOM', 'CALLER_NAME_LAST', 'CALLER_NAME_FIRST', \\\n",
    "               'CALLER_ROOM', 'DESCRIPTION', 'Release_Date']"
   ]
  },
  {
   "cell_type": "code",
   "execution_count": 8,
   "metadata": {},
   "outputs": [],
   "source": [
    "df = df.drop(*cols_to_drop)"
   ]
  },
  {
   "cell_type": "code",
   "execution_count": 9,
   "metadata": {},
   "outputs": [
    {
     "name": "stdout",
     "output_type": "stream",
     "text": [
      "+---------------+---------+-------+----------------+-----------------+\n",
      "|       NAMELAST|NAMEFIRST|NAMEMID|visitee_namelast|visitee_namefirst|\n",
      "+---------------+---------+-------+----------------+-----------------+\n",
      "|TAJOURIBESSASSI|   HANENE|   null|        Pelofsky|             Eric|\n",
      "|        bageant|    laura|      j|     Baskerville|           Steven|\n",
      "|       Broemson|     Earl|      H|     Baskerville|           Steven|\n",
      "|    Jackling Jr|  William|      C|     Baskerville|           Steven|\n",
      "|        McCrary|  Richard|      L|     Baskerville|           Steven|\n",
      "+---------------+---------+-------+----------------+-----------------+\n",
      "only showing top 5 rows\n",
      "\n"
     ]
    }
   ],
   "source": [
    "df.show(5)"
   ]
  },
  {
   "cell_type": "markdown",
   "metadata": {},
   "source": [
    "# Converting everything to lower case"
   ]
  },
  {
   "cell_type": "code",
   "execution_count": 7,
   "metadata": {},
   "outputs": [],
   "source": [
    "for col in df.columns:\n",
    "    df = df.withColumn(col, f.lower(f.col(col)))"
   ]
  },
  {
   "cell_type": "code",
   "execution_count": 8,
   "metadata": {},
   "outputs": [],
   "source": [
    "df = df.toDF(*[c.lower() for c in df.columns])"
   ]
  },
  {
   "cell_type": "code",
   "execution_count": 9,
   "metadata": {},
   "outputs": [
    {
     "name": "stdout",
     "output_type": "stream",
     "text": [
      "+---------------+---------+-------+----------------+-----------------+\n",
      "|       namelast|namefirst|namemid|visitee_namelast|visitee_namefirst|\n",
      "+---------------+---------+-------+----------------+-----------------+\n",
      "|tajouribessassi|   hanene|   null|        pelofsky|             eric|\n",
      "|        bageant|    laura|      j|     baskerville|           steven|\n",
      "|       broemson|     earl|      h|     baskerville|           steven|\n",
      "+---------------+---------+-------+----------------+-----------------+\n",
      "only showing top 3 rows\n",
      "\n"
     ]
    }
   ],
   "source": [
    "df.show(3)"
   ]
  },
  {
   "cell_type": "code",
   "execution_count": 10,
   "metadata": {},
   "outputs": [
    {
     "data": {
      "text/plain": [
       "970504"
      ]
     },
     "execution_count": 10,
     "metadata": {},
     "output_type": "execute_result"
    }
   ],
   "source": [
    "original_count = df.count()\n",
    "original_count"
   ]
  },
  {
   "cell_type": "code",
   "execution_count": 11,
   "metadata": {},
   "outputs": [],
   "source": [
    "org_df = df"
   ]
  },
  {
   "cell_type": "markdown",
   "metadata": {},
   "source": [
    "# Removing Null values in NameLast, Visitee_NameLast"
   ]
  },
  {
   "cell_type": "code",
   "execution_count": 12,
   "metadata": {},
   "outputs": [],
   "source": [
    "null_df = df.filter(df.namelast.isNotNull())"
   ]
  },
  {
   "cell_type": "code",
   "execution_count": 13,
   "metadata": {},
   "outputs": [],
   "source": [
    "null_df = null_df.filter(df.visitee_namelast.isNotNull())"
   ]
  },
  {
   "cell_type": "code",
   "execution_count": 14,
   "metadata": {},
   "outputs": [
    {
     "data": {
      "text/plain": [
       "911249"
      ]
     },
     "execution_count": 14,
     "metadata": {},
     "output_type": "execute_result"
    }
   ],
   "source": [
    "no_null = null_df.count()\n",
    "no_null"
   ]
  },
  {
   "cell_type": "markdown",
   "metadata": {},
   "source": [
    "# Alternate method"
   ]
  },
  {
   "cell_type": "code",
   "execution_count": 15,
   "metadata": {},
   "outputs": [],
   "source": [
    "df11 = df.dropna(subset = ['namelast', 'visitee_namelast'])"
   ]
  },
  {
   "cell_type": "code",
   "execution_count": 16,
   "metadata": {},
   "outputs": [
    {
     "data": {
      "text/plain": [
       "911249"
      ]
     },
     "execution_count": 16,
     "metadata": {},
     "output_type": "execute_result"
    }
   ],
   "source": [
    "df11.count()"
   ]
  },
  {
   "cell_type": "markdown",
   "metadata": {},
   "source": [
    "# Remove Non-English Characters"
   ]
  },
  {
   "cell_type": "markdown",
   "metadata": {},
   "source": [
    "non_eng_udf = udf(lambda x: x if x.isalpha() else '', StringType())"
   ]
  },
  {
   "cell_type": "markdown",
   "metadata": {},
   "source": [
    "df = null_df.withColumn('visitee_namelast', non_eng_udf(null_df.visitee_namelast))"
   ]
  },
  {
   "cell_type": "markdown",
   "metadata": {},
   "source": [
    "df = df.filter(df.visitee_namelast != '')"
   ]
  },
  {
   "cell_type": "markdown",
   "metadata": {},
   "source": [
    "df = df.withColumn('namelast', non_eng_udf(df.namelast))\n",
    "df = df.filter(df.namelast != '')"
   ]
  },
  {
   "cell_type": "markdown",
   "metadata": {},
   "source": [
    "The above code removes any record which has a space in it as it is not alphabetics as per the function isalpha().\n",
    "The number of records dropped by this method is 897037. Consider below example:"
   ]
  },
  {
   "cell_type": "code",
   "execution_count": 17,
   "metadata": {},
   "outputs": [
    {
     "data": {
      "text/plain": [
       "False"
      ]
     },
     "execution_count": 17,
     "metadata": {},
     "output_type": "execute_result"
    }
   ],
   "source": [
    "str1 = 'ass asss'\n",
    "str1.isalpha()"
   ]
  },
  {
   "cell_type": "markdown",
   "metadata": {},
   "source": [
    "Let's try using regular expressions to drop Non-English Characters."
   ]
  },
  {
   "cell_type": "code",
   "execution_count": 18,
   "metadata": {},
   "outputs": [],
   "source": [
    "df = null_df.filter(null_df.namelast.rlike('[a-z]'))"
   ]
  },
  {
   "cell_type": "code",
   "execution_count": 19,
   "metadata": {},
   "outputs": [],
   "source": [
    "df = df.filter(df.visitee_namelast.rlike('[a-z]'))"
   ]
  },
  {
   "cell_type": "code",
   "execution_count": 20,
   "metadata": {},
   "outputs": [
    {
     "data": {
      "text/plain": [
       "900059"
      ]
     },
     "execution_count": 20,
     "metadata": {},
     "output_type": "execute_result"
    }
   ],
   "source": [
    "df.count()"
   ]
  },
  {
   "cell_type": "markdown",
   "metadata": {},
   "source": [
    "# Number of records dropeed"
   ]
  },
  {
   "cell_type": "code",
   "execution_count": 21,
   "metadata": {},
   "outputs": [],
   "source": [
    "new_count = df.count()"
   ]
  },
  {
   "cell_type": "code",
   "execution_count": 22,
   "metadata": {},
   "outputs": [
    {
     "name": "stdout",
     "output_type": "stream",
     "text": [
      "70445\n"
     ]
    }
   ],
   "source": [
    "dropped = original_count - new_count\n",
    "print(dropped)"
   ]
  },
  {
   "cell_type": "markdown",
   "metadata": {},
   "source": [
    "# The 10 most frequent visitors\n",
    "  (NAMELAST, NAMEFIRST, NAMEMID)\n",
    "   to the White House."
   ]
  },
  {
   "cell_type": "code",
   "execution_count": 23,
   "metadata": {},
   "outputs": [],
   "source": [
    "top_10_visitors = df.groupby(['namelast', 'namefirst', 'namemid']).count().orderBy('count', ascending=False)"
   ]
  },
  {
   "cell_type": "code",
   "execution_count": null,
   "metadata": {},
   "outputs": [],
   "source": []
  },
  {
   "cell_type": "code",
   "execution_count": null,
   "metadata": {},
   "outputs": [],
   "source": []
  },
  {
   "cell_type": "code",
   "execution_count": null,
   "metadata": {},
   "outputs": [],
   "source": []
  },
  {
   "cell_type": "code",
   "execution_count": 24,
   "metadata": {},
   "outputs": [
    {
     "name": "stdout",
     "output_type": "stream",
     "text": [
      "+--------+---------+-------+-----+\n",
      "|namelast|namefirst|namemid|count|\n",
      "+--------+---------+-------+-----+\n",
      "|  thomas| benjamin|      l|  185|\n",
      "|  berner|katherine|      k|  176|\n",
      "|    haas|   jordan|      m|  152|\n",
      "|   grant|  patrick|      c|  151|\n",
      "| kidwell|   lauren|      k|  145|\n",
      "|    haro|   steven|      m|  140|\n",
      "|   garza|   steven|      a|  127|\n",
      "|  strait|     elan|   null|  107|\n",
      "|     lew| shoshana|      m|  102|\n",
      "| zeitlin|   daniel|      l|   98|\n",
      "+--------+---------+-------+-----+\n",
      "only showing top 10 rows\n",
      "\n"
     ]
    }
   ],
   "source": [
    "top_10_visitors.show(10)"
   ]
  },
  {
   "cell_type": "markdown",
   "metadata": {},
   "source": [
    "#  The 10 most frequently visited people\n",
    " (visitee_namelast, visitee_namefirst) in the White House."
   ]
  },
  {
   "cell_type": "code",
   "execution_count": 25,
   "metadata": {},
   "outputs": [],
   "source": [
    "top_10_visitees = df.groupby(['visitee_namelast', 'visitee_namefirst']).count().orderBy('count', ascending=False)"
   ]
  },
  {
   "cell_type": "code",
   "execution_count": 26,
   "metadata": {},
   "outputs": [
    {
     "name": "stdout",
     "output_type": "stream",
     "text": [
      "+----------------+-----------------+------+\n",
      "|visitee_namelast|visitee_namefirst| count|\n",
      "+----------------+-----------------+------+\n",
      "|          office|         visitors|430881|\n",
      "|           waves|   visitorsoffice| 44129|\n",
      "|          bryant|             ruth| 13970|\n",
      "|           oneil|           olivia| 13155|\n",
      "|        thompson|            jared| 11618|\n",
      "|          burton|           collin|  9672|\n",
      "|           megan|          matthew|  7944|\n",
      "|        mayerson|            asher|  6886|\n",
      "|      dessources|          kalisha|  5289|\n",
      "|           evans|            karen|  2908|\n",
      "+----------------+-----------------+------+\n",
      "only showing top 10 rows\n",
      "\n"
     ]
    }
   ],
   "source": [
    "top_10_visitees.show(10)"
   ]
  },
  {
   "cell_type": "markdown",
   "metadata": {},
   "source": [
    "# The 10 most frequent visitor-visitee\n",
    " combinations.\n"
   ]
  },
  {
   "cell_type": "code",
   "execution_count": 27,
   "metadata": {},
   "outputs": [],
   "source": [
    "list1 = ['namelast', 'namefirst', 'visitee_namelast', 'visitee_namefirst']"
   ]
  },
  {
   "cell_type": "code",
   "execution_count": 28,
   "metadata": {},
   "outputs": [],
   "source": [
    "top_10_combo = df.groupby(list1).count().orderBy('count', ascending = False)"
   ]
  },
  {
   "cell_type": "code",
   "execution_count": 29,
   "metadata": {
    "scrolled": true
   },
   "outputs": [
    {
     "name": "stdout",
     "output_type": "stream",
     "text": [
      "+--------+---------+----------------+-----------------+-----+\n",
      "|namelast|namefirst|visitee_namelast|visitee_namefirst|count|\n",
      "+--------+---------+----------------+-----------------+-----+\n",
      "| kidwell|   lauren|        yudelson|             alex|  103|\n",
      "|    haas|   jordan|        yudelson|             alex|   90|\n",
      "|   grant|  patrick|        yudelson|             alex|   89|\n",
      "|  thomas| benjamin|        yudelson|             alex|   89|\n",
      "|    haro|   steven|        yudelson|             alex|   84|\n",
      "|   cohen|    mandy|         lambrew|           jeanne|   84|\n",
      "|  berner|katherine|        yudelson|             alex|   82|\n",
      "|   roche|  shannon|        yudelson|             alex|   70|\n",
      "|  urizar| jennifer|         johnson|            katie|   68|\n",
      "|  martin|  kathryn|         lambrew|           jeanne|   61|\n",
      "+--------+---------+----------------+-----------------+-----+\n",
      "only showing top 10 rows\n",
      "\n"
     ]
    }
   ],
   "source": [
    "top_10_combo.show(10)"
   ]
  }
 ],
 "metadata": {
  "kernelspec": {
   "display_name": "Python 3",
   "language": "python",
   "name": "python3"
  },
  "language_info": {
   "codemirror_mode": {
    "name": "ipython",
    "version": 3
   },
   "file_extension": ".py",
   "mimetype": "text/x-python",
   "name": "python",
   "nbconvert_exporter": "python",
   "pygments_lexer": "ipython3",
   "version": "3.7.3"
  }
 },
 "nbformat": 4,
 "nbformat_minor": 2
}
